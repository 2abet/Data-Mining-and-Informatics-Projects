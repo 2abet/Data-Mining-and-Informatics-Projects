{
 "cells": [
  {
   "cell_type": "markdown",
   "id": "7296c00d",
   "metadata": {},
   "source": [
    "## Workshop 5 - Market Basket Analysis using Apriori Algorithm\n",
    "\n",
    "STUDENT NO: 2302546\n",
    "\n",
    "This notebook focuses on generating association rules for market basket analysis using\n",
    "apriori algorithm.\n",
    "\n",
    "\n",
    "#### Importing necessary libraries\n"
   ]
  },
  {
   "cell_type": "code",
   "execution_count": 1,
   "id": "c7ccff09",
   "metadata": {},
   "outputs": [],
   "source": [
    "import matplotlib.pyplot as plt; plt.rcdefaults()\n",
    "import matplotlib.pyplot as plt\n",
    "import pandas as pd\n",
    "import numpy as np\n",
    "import warnings\n",
    "warnings.filterwarnings('ignore')"
   ]
  },
  {
   "cell_type": "code",
   "execution_count": 2,
   "id": "c3b71d71",
   "metadata": {},
   "outputs": [],
   "source": [
    "df = pd.read_csv('Workshop-5-dataset.zip', sep='\\t',dtype=np.str)"
   ]
  },
  {
   "cell_type": "markdown",
   "id": "57564379",
   "metadata": {},
   "source": [
    "## Q1. Display the first five rows of the dataset\n",
    "\n",
    "### Answer:"
   ]
  },
  {
   "cell_type": "code",
   "execution_count": 3,
   "id": "c6a052f4",
   "metadata": {
    "scrolled": true
   },
   "outputs": [
    {
     "data": {
      "text/html": [
       "<div>\n",
       "<style scoped>\n",
       "    .dataframe tbody tr th:only-of-type {\n",
       "        vertical-align: middle;\n",
       "    }\n",
       "\n",
       "    .dataframe tbody tr th {\n",
       "        vertical-align: top;\n",
       "    }\n",
       "\n",
       "    .dataframe thead th {\n",
       "        text-align: right;\n",
       "    }\n",
       "</style>\n",
       "<table border=\"1\" class=\"dataframe\">\n",
       "  <thead>\n",
       "    <tr style=\"text-align: right;\">\n",
       "      <th></th>\n",
       "      <th>transaction_ID</th>\n",
       "      <th>Date</th>\n",
       "      <th>Time</th>\n",
       "      <th>item_0</th>\n",
       "      <th>item_1</th>\n",
       "      <th>item_2</th>\n",
       "      <th>item_3</th>\n",
       "      <th>item_4</th>\n",
       "      <th>item_5</th>\n",
       "      <th>item_6</th>\n",
       "      <th>...</th>\n",
       "      <th>item_31</th>\n",
       "      <th>item_32</th>\n",
       "      <th>item_33</th>\n",
       "      <th>item_34</th>\n",
       "      <th>item_35</th>\n",
       "      <th>item_36</th>\n",
       "      <th>item_37</th>\n",
       "      <th>item_38</th>\n",
       "      <th>item_39</th>\n",
       "      <th>item_40</th>\n",
       "    </tr>\n",
       "  </thead>\n",
       "  <tbody>\n",
       "    <tr>\n",
       "      <th>0</th>\n",
       "      <td>536365</td>\n",
       "      <td>01/12/2010</td>\n",
       "      <td>08:26</td>\n",
       "      <td>WHITE HANGING HEART T-LIGHT HOLDER</td>\n",
       "      <td>WHITE METAL LANTERN</td>\n",
       "      <td>CREAM CUPID HEARTS COAT HANGER</td>\n",
       "      <td>KNITTED UNION FLAG HOT WATER BOTTLE</td>\n",
       "      <td>RED WOOLLY HOTTIE WHITE HEART</td>\n",
       "      <td>SET 7 BABUSHKA NESTING BOXES</td>\n",
       "      <td>GLASS STAR FROSTED T-LIGHT HOLDER</td>\n",
       "      <td>...</td>\n",
       "      <td>NaN</td>\n",
       "      <td>NaN</td>\n",
       "      <td>NaN</td>\n",
       "      <td>NaN</td>\n",
       "      <td>NaN</td>\n",
       "      <td>NaN</td>\n",
       "      <td>NaN</td>\n",
       "      <td>NaN</td>\n",
       "      <td>NaN</td>\n",
       "      <td>NaN</td>\n",
       "    </tr>\n",
       "    <tr>\n",
       "      <th>1</th>\n",
       "      <td>536366</td>\n",
       "      <td>01/12/2010</td>\n",
       "      <td>08:28</td>\n",
       "      <td>HAND WARMER UNION JACK</td>\n",
       "      <td>HAND WARMER RED POLKA DOT</td>\n",
       "      <td>NaN</td>\n",
       "      <td>NaN</td>\n",
       "      <td>NaN</td>\n",
       "      <td>NaN</td>\n",
       "      <td>NaN</td>\n",
       "      <td>...</td>\n",
       "      <td>NaN</td>\n",
       "      <td>NaN</td>\n",
       "      <td>NaN</td>\n",
       "      <td>NaN</td>\n",
       "      <td>NaN</td>\n",
       "      <td>NaN</td>\n",
       "      <td>NaN</td>\n",
       "      <td>NaN</td>\n",
       "      <td>NaN</td>\n",
       "      <td>NaN</td>\n",
       "    </tr>\n",
       "    <tr>\n",
       "      <th>2</th>\n",
       "      <td>536367</td>\n",
       "      <td>01/12/2010</td>\n",
       "      <td>08:34</td>\n",
       "      <td>ASSORTED COLOUR BIRD ORNAMENT</td>\n",
       "      <td>POPPY'S PLAYHOUSE BEDROOM</td>\n",
       "      <td>POPPY'S PLAYHOUSE KITCHEN</td>\n",
       "      <td>FELTCRAFT PRINCESS CHARLOTTE DOLL</td>\n",
       "      <td>IVORY KNITTED MUG COSY</td>\n",
       "      <td>BOX OF 6 ASSORTED COLOUR TEASPOONS</td>\n",
       "      <td>BOX OF VINTAGE JIGSAW BLOCKS</td>\n",
       "      <td>...</td>\n",
       "      <td>NaN</td>\n",
       "      <td>NaN</td>\n",
       "      <td>NaN</td>\n",
       "      <td>NaN</td>\n",
       "      <td>NaN</td>\n",
       "      <td>NaN</td>\n",
       "      <td>NaN</td>\n",
       "      <td>NaN</td>\n",
       "      <td>NaN</td>\n",
       "      <td>NaN</td>\n",
       "    </tr>\n",
       "    <tr>\n",
       "      <th>3</th>\n",
       "      <td>536368</td>\n",
       "      <td>01/12/2010</td>\n",
       "      <td>08:34</td>\n",
       "      <td>JAM MAKING SET WITH JARS</td>\n",
       "      <td>RED COAT RACK PARIS FASHION</td>\n",
       "      <td>YELLOW COAT RACK PARIS FASHION</td>\n",
       "      <td>BLUE COAT RACK PARIS FASHION</td>\n",
       "      <td>NaN</td>\n",
       "      <td>NaN</td>\n",
       "      <td>NaN</td>\n",
       "      <td>...</td>\n",
       "      <td>NaN</td>\n",
       "      <td>NaN</td>\n",
       "      <td>NaN</td>\n",
       "      <td>NaN</td>\n",
       "      <td>NaN</td>\n",
       "      <td>NaN</td>\n",
       "      <td>NaN</td>\n",
       "      <td>NaN</td>\n",
       "      <td>NaN</td>\n",
       "      <td>NaN</td>\n",
       "    </tr>\n",
       "    <tr>\n",
       "      <th>4</th>\n",
       "      <td>536369</td>\n",
       "      <td>01/12/2010</td>\n",
       "      <td>08:35</td>\n",
       "      <td>BATH BUILDING BLOCK WORD</td>\n",
       "      <td>NaN</td>\n",
       "      <td>NaN</td>\n",
       "      <td>NaN</td>\n",
       "      <td>NaN</td>\n",
       "      <td>NaN</td>\n",
       "      <td>NaN</td>\n",
       "      <td>...</td>\n",
       "      <td>NaN</td>\n",
       "      <td>NaN</td>\n",
       "      <td>NaN</td>\n",
       "      <td>NaN</td>\n",
       "      <td>NaN</td>\n",
       "      <td>NaN</td>\n",
       "      <td>NaN</td>\n",
       "      <td>NaN</td>\n",
       "      <td>NaN</td>\n",
       "      <td>NaN</td>\n",
       "    </tr>\n",
       "  </tbody>\n",
       "</table>\n",
       "<p>5 rows × 44 columns</p>\n",
       "</div>"
      ],
      "text/plain": [
       "  transaction_ID        Date   Time                              item_0  \\\n",
       "0         536365  01/12/2010  08:26  WHITE HANGING HEART T-LIGHT HOLDER   \n",
       "1         536366  01/12/2010  08:28              HAND WARMER UNION JACK   \n",
       "2         536367  01/12/2010  08:34       ASSORTED COLOUR BIRD ORNAMENT   \n",
       "3         536368  01/12/2010  08:34            JAM MAKING SET WITH JARS   \n",
       "4         536369  01/12/2010  08:35            BATH BUILDING BLOCK WORD   \n",
       "\n",
       "                        item_1                          item_2  \\\n",
       "0          WHITE METAL LANTERN  CREAM CUPID HEARTS COAT HANGER   \n",
       "1    HAND WARMER RED POLKA DOT                             NaN   \n",
       "2    POPPY'S PLAYHOUSE BEDROOM       POPPY'S PLAYHOUSE KITCHEN   \n",
       "3  RED COAT RACK PARIS FASHION  YELLOW COAT RACK PARIS FASHION   \n",
       "4                          NaN                             NaN   \n",
       "\n",
       "                                item_3                         item_4  \\\n",
       "0  KNITTED UNION FLAG HOT WATER BOTTLE  RED WOOLLY HOTTIE WHITE HEART   \n",
       "1                                  NaN                            NaN   \n",
       "2    FELTCRAFT PRINCESS CHARLOTTE DOLL         IVORY KNITTED MUG COSY   \n",
       "3         BLUE COAT RACK PARIS FASHION                            NaN   \n",
       "4                                  NaN                            NaN   \n",
       "\n",
       "                               item_5                             item_6  ...  \\\n",
       "0        SET 7 BABUSHKA NESTING BOXES  GLASS STAR FROSTED T-LIGHT HOLDER  ...   \n",
       "1                                 NaN                                NaN  ...   \n",
       "2  BOX OF 6 ASSORTED COLOUR TEASPOONS       BOX OF VINTAGE JIGSAW BLOCKS  ...   \n",
       "3                                 NaN                                NaN  ...   \n",
       "4                                 NaN                                NaN  ...   \n",
       "\n",
       "  item_31 item_32 item_33 item_34 item_35 item_36 item_37 item_38 item_39  \\\n",
       "0     NaN     NaN     NaN     NaN     NaN     NaN     NaN     NaN     NaN   \n",
       "1     NaN     NaN     NaN     NaN     NaN     NaN     NaN     NaN     NaN   \n",
       "2     NaN     NaN     NaN     NaN     NaN     NaN     NaN     NaN     NaN   \n",
       "3     NaN     NaN     NaN     NaN     NaN     NaN     NaN     NaN     NaN   \n",
       "4     NaN     NaN     NaN     NaN     NaN     NaN     NaN     NaN     NaN   \n",
       "\n",
       "  item_40  \n",
       "0     NaN  \n",
       "1     NaN  \n",
       "2     NaN  \n",
       "3     NaN  \n",
       "4     NaN  \n",
       "\n",
       "[5 rows x 44 columns]"
      ]
     },
     "execution_count": 3,
     "metadata": {},
     "output_type": "execute_result"
    }
   ],
   "source": [
    "df.head()"
   ]
  },
  {
   "cell_type": "markdown",
   "id": "f626e36e",
   "metadata": {},
   "source": [
    "## Q2. How many rows and columns are there in the dataset?\n",
    "\n",
    "### Answer:"
   ]
  },
  {
   "cell_type": "code",
   "execution_count": 4,
   "id": "ebc098ee",
   "metadata": {
    "scrolled": true
   },
   "outputs": [
    {
     "data": {
      "text/plain": [
       "(31941, 44)"
      ]
     },
     "execution_count": 4,
     "metadata": {},
     "output_type": "execute_result"
    }
   ],
   "source": [
    "df.shape"
   ]
  },
  {
   "cell_type": "markdown",
   "id": "c54e9286",
   "metadata": {},
   "source": [
    "There are 31941 rows and 44 columns in this dataset"
   ]
  },
  {
   "cell_type": "markdown",
   "id": "bd48469a",
   "metadata": {},
   "source": [
    "## GENERATING UNIQUE DATASET"
   ]
  },
  {
   "cell_type": "code",
   "execution_count": 5,
   "id": "f22891e4",
   "metadata": {},
   "outputs": [],
   "source": [
    "STUDENT_NAME = 'ArabambiAkinyemi'\n",
    "STUDENT_NO = '2546'"
   ]
  },
  {
   "cell_type": "code",
   "execution_count": 6,
   "id": "a1dc10a4",
   "metadata": {},
   "outputs": [],
   "source": [
    "np.random.seed(int(STUDENT_NO))\n",
    "unique_id = int('2' + STUDENT_NO)\n",
    "rows = np.random.choice(df.index.values, unique_id)\n",
    "data = df.loc[rows]"
   ]
  },
  {
   "cell_type": "code",
   "execution_count": 7,
   "id": "af582798",
   "metadata": {},
   "outputs": [],
   "source": [
    "file_name = STUDENT_NAME + \"_\" + STUDENT_NO + \".csv\"\n",
    "data.to_csv(file_name) "
   ]
  },
  {
   "cell_type": "markdown",
   "id": "d1e50f9c",
   "metadata": {},
   "source": [
    "## Q3. How many unique dates are there in the dataset? HINT: You can use the .nunique() function available in Pandas.\n",
    "\n",
    "### Answer:"
   ]
  },
  {
   "cell_type": "code",
   "execution_count": 8,
   "id": "acb90b59",
   "metadata": {},
   "outputs": [
    {
     "name": "stdout",
     "output_type": "stream",
     "text": [
      "Number of unique dates in the dataset: 305\n"
     ]
    }
   ],
   "source": [
    "# Get the number of unique dates in the \"date\" column\n",
    "num_unique_dates = df[\"Date\"].nunique()\n",
    "\n",
    "# Print the result\n",
    "print(\"Number of unique dates in the dataset:\", num_unique_dates)"
   ]
  },
  {
   "cell_type": "markdown",
   "id": "dc3ef07e",
   "metadata": {},
   "source": [
    "## Data Visualisation"
   ]
  },
  {
   "cell_type": "code",
   "execution_count": 9,
   "id": "feb0b1b8",
   "metadata": {},
   "outputs": [],
   "source": [
    "data['Hour'] = pd.to_datetime(data['Time'], format='%H:%M').dt.hour"
   ]
  },
  {
   "cell_type": "code",
   "execution_count": 10,
   "id": "3a219db0",
   "metadata": {},
   "outputs": [
    {
     "data": {
      "image/png": "[encoded data removed]",
      "text/plain": [
       "<Figure size 640x480 with 1 Axes>"
      ]
     },
     "metadata": {},
     "output_type": "display_data"
    }
   ],
   "source": [
    "hour_hist = data.hist(column=\"Hour\", bins=15, grid=False)\n",
    " \n",
    "for ax in hour_hist.flatten():\n",
    "    ax.set_xlabel(\"Hour\")\n",
    "    ax.set_ylabel(\"Frequency\")"
   ]
  },
  {
   "cell_type": "markdown",
   "id": "412d6925",
   "metadata": {},
   "source": [
    "## APRIORI ALGORITHM"
   ]
  },
  {
   "cell_type": "code",
   "execution_count": 11,
   "id": "53d02b4a",
   "metadata": {},
   "outputs": [],
   "source": [
    "# import apyori\n",
    "from apyori import apriori"
   ]
  },
  {
   "cell_type": "code",
   "execution_count": 12,
   "id": "04aeb50b",
   "metadata": {},
   "outputs": [
    {
     "data": {
      "text/html": [
       "<div>\n",
       "<style scoped>\n",
       "    .dataframe tbody tr th:only-of-type {\n",
       "        vertical-align: middle;\n",
       "    }\n",
       "\n",
       "    .dataframe tbody tr th {\n",
       "        vertical-align: top;\n",
       "    }\n",
       "\n",
       "    .dataframe thead th {\n",
       "        text-align: right;\n",
       "    }\n",
       "</style>\n",
       "<table border=\"1\" class=\"dataframe\">\n",
       "  <thead>\n",
       "    <tr style=\"text-align: right;\">\n",
       "      <th></th>\n",
       "      <th>transaction_ID</th>\n",
       "      <th>Date</th>\n",
       "      <th>Time</th>\n",
       "      <th>item_0</th>\n",
       "      <th>item_1</th>\n",
       "      <th>item_2</th>\n",
       "      <th>item_3</th>\n",
       "      <th>item_4</th>\n",
       "      <th>item_5</th>\n",
       "      <th>item_6</th>\n",
       "      <th>...</th>\n",
       "      <th>item_32</th>\n",
       "      <th>item_33</th>\n",
       "      <th>item_34</th>\n",
       "      <th>item_35</th>\n",
       "      <th>item_36</th>\n",
       "      <th>item_37</th>\n",
       "      <th>item_38</th>\n",
       "      <th>item_39</th>\n",
       "      <th>item_40</th>\n",
       "      <th>Hour</th>\n",
       "    </tr>\n",
       "  </thead>\n",
       "  <tbody>\n",
       "    <tr>\n",
       "      <th>19246</th>\n",
       "      <td>564166</td>\n",
       "      <td>23/08/2011</td>\n",
       "      <td>13:40</td>\n",
       "      <td>NATURAL SLATE HEART CHALKBOARD</td>\n",
       "      <td>CHILDRENS APRON APPLES DESIGN</td>\n",
       "      <td>WRAP  VINTAGE DOILY</td>\n",
       "      <td>WRAP VINTAGE LEAF DESIGN</td>\n",
       "      <td>WRAP POPPIES  DESIGN</td>\n",
       "      <td>WRAP GINGHAM ROSE</td>\n",
       "      <td>WRAP ENGLISH ROSE</td>\n",
       "      <td>...</td>\n",
       "      <td>VINTAGE CHRISTMAS TABLECLOTH</td>\n",
       "      <td>NaN</td>\n",
       "      <td>NaN</td>\n",
       "      <td>NaN</td>\n",
       "      <td>NaN</td>\n",
       "      <td>NaN</td>\n",
       "      <td>NaN</td>\n",
       "      <td>NaN</td>\n",
       "      <td>NaN</td>\n",
       "      <td>13</td>\n",
       "    </tr>\n",
       "  </tbody>\n",
       "</table>\n",
       "<p>1 rows × 45 columns</p>\n",
       "</div>"
      ],
      "text/plain": [
       "      transaction_ID        Date   Time                          item_0  \\\n",
       "19246         564166  23/08/2011  13:40  NATURAL SLATE HEART CHALKBOARD   \n",
       "\n",
       "                              item_1               item_2  \\\n",
       "19246  CHILDRENS APRON APPLES DESIGN  WRAP  VINTAGE DOILY   \n",
       "\n",
       "                         item_3                item_4             item_5  \\\n",
       "19246  WRAP VINTAGE LEAF DESIGN  WRAP POPPIES  DESIGN  WRAP GINGHAM ROSE   \n",
       "\n",
       "                  item_6  ...                       item_32 item_33 item_34  \\\n",
       "19246  WRAP ENGLISH ROSE  ...  VINTAGE CHRISTMAS TABLECLOTH     NaN     NaN   \n",
       "\n",
       "      item_35 item_36 item_37 item_38 item_39 item_40 Hour  \n",
       "19246     NaN     NaN     NaN     NaN     NaN     NaN   13  \n",
       "\n",
       "[1 rows x 45 columns]"
      ]
     },
     "execution_count": 12,
     "metadata": {},
     "output_type": "execute_result"
    }
   ],
   "source": [
    "data.head(1)"
   ]
  },
  {
   "cell_type": "markdown",
   "id": "2a76b168",
   "metadata": {},
   "source": [
    "## Data Preprocessing"
   ]
  },
  {
   "cell_type": "code",
   "execution_count": 13,
   "id": "da8cdf73",
   "metadata": {},
   "outputs": [],
   "source": [
    "items_df=data[data.columns[3:44]]"
   ]
  },
  {
   "cell_type": "code",
   "execution_count": 14,
   "id": "6fc67b9a",
   "metadata": {},
   "outputs": [
    {
     "data": {
      "text/html": [
       "<div>\n",
       "<style scoped>\n",
       "    .dataframe tbody tr th:only-of-type {\n",
       "        vertical-align: middle;\n",
       "    }\n",
       "\n",
       "    .dataframe tbody tr th {\n",
       "        vertical-align: top;\n",
       "    }\n",
       "\n",
       "    .dataframe thead th {\n",
       "        text-align: right;\n",
       "    }\n",
       "</style>\n",
       "<table border=\"1\" class=\"dataframe\">\n",
       "  <thead>\n",
       "    <tr style=\"text-align: right;\">\n",
       "      <th></th>\n",
       "      <th>item_0</th>\n",
       "      <th>item_1</th>\n",
       "      <th>item_2</th>\n",
       "      <th>item_3</th>\n",
       "      <th>item_4</th>\n",
       "      <th>item_5</th>\n",
       "      <th>item_6</th>\n",
       "      <th>item_7</th>\n",
       "      <th>item_8</th>\n",
       "      <th>item_9</th>\n",
       "      <th>...</th>\n",
       "      <th>item_31</th>\n",
       "      <th>item_32</th>\n",
       "      <th>item_33</th>\n",
       "      <th>item_34</th>\n",
       "      <th>item_35</th>\n",
       "      <th>item_36</th>\n",
       "      <th>item_37</th>\n",
       "      <th>item_38</th>\n",
       "      <th>item_39</th>\n",
       "      <th>item_40</th>\n",
       "    </tr>\n",
       "  </thead>\n",
       "  <tbody>\n",
       "    <tr>\n",
       "      <th>19246</th>\n",
       "      <td>NATURAL SLATE HEART CHALKBOARD</td>\n",
       "      <td>CHILDRENS APRON APPLES DESIGN</td>\n",
       "      <td>WRAP  VINTAGE DOILY</td>\n",
       "      <td>WRAP VINTAGE LEAF DESIGN</td>\n",
       "      <td>WRAP POPPIES  DESIGN</td>\n",
       "      <td>WRAP GINGHAM ROSE</td>\n",
       "      <td>WRAP ENGLISH ROSE</td>\n",
       "      <td>WRAP PINK FAIRY CAKES</td>\n",
       "      <td>CARD DOLLY GIRL</td>\n",
       "      <td>PENNY FARTHING BIRTHDAY CARD</td>\n",
       "      <td>...</td>\n",
       "      <td>60 CAKE CASES VINTAGE CHRISTMAS</td>\n",
       "      <td>VINTAGE CHRISTMAS TABLECLOTH</td>\n",
       "      <td>NaN</td>\n",
       "      <td>NaN</td>\n",
       "      <td>NaN</td>\n",
       "      <td>NaN</td>\n",
       "      <td>NaN</td>\n",
       "      <td>NaN</td>\n",
       "      <td>NaN</td>\n",
       "      <td>NaN</td>\n",
       "    </tr>\n",
       "    <tr>\n",
       "      <th>5135</th>\n",
       "      <td>WOODEN ROUNDERS GARDEN SET</td>\n",
       "      <td>WHITE BAMBOO RIBS LAMPSHADE</td>\n",
       "      <td>NaN</td>\n",
       "      <td>NaN</td>\n",
       "      <td>NaN</td>\n",
       "      <td>NaN</td>\n",
       "      <td>NaN</td>\n",
       "      <td>NaN</td>\n",
       "      <td>NaN</td>\n",
       "      <td>NaN</td>\n",
       "      <td>...</td>\n",
       "      <td>NaN</td>\n",
       "      <td>NaN</td>\n",
       "      <td>NaN</td>\n",
       "      <td>NaN</td>\n",
       "      <td>NaN</td>\n",
       "      <td>NaN</td>\n",
       "      <td>NaN</td>\n",
       "      <td>NaN</td>\n",
       "      <td>NaN</td>\n",
       "      <td>NaN</td>\n",
       "    </tr>\n",
       "    <tr>\n",
       "      <th>15906</th>\n",
       "      <td>METAL SIGN TAKE IT OR LEAVE IT</td>\n",
       "      <td>METAL SIGN EMPIRE TEA</td>\n",
       "      <td>HAND OVER THE CHOCOLATE   SIGN</td>\n",
       "      <td>METAL SIGN HER DINNER IS SERVED</td>\n",
       "      <td>DOORMAT UNION JACK GUNS AND ROSES</td>\n",
       "      <td>DOORMAT FANCY FONT HOME SWEET HOME</td>\n",
       "      <td>DOORMAT KEEP CALM AND COME IN</td>\n",
       "      <td>DOORMAT WELCOME TO OUR HOME</td>\n",
       "      <td>DOORMAT FAIRY CAKE</td>\n",
       "      <td>DOORMAT WELCOME PUPPIES</td>\n",
       "      <td>...</td>\n",
       "      <td>NaN</td>\n",
       "      <td>NaN</td>\n",
       "      <td>NaN</td>\n",
       "      <td>NaN</td>\n",
       "      <td>NaN</td>\n",
       "      <td>NaN</td>\n",
       "      <td>NaN</td>\n",
       "      <td>NaN</td>\n",
       "      <td>NaN</td>\n",
       "      <td>NaN</td>\n",
       "    </tr>\n",
       "    <tr>\n",
       "      <th>10141</th>\n",
       "      <td>NaN</td>\n",
       "      <td>NaN</td>\n",
       "      <td>NaN</td>\n",
       "      <td>NaN</td>\n",
       "      <td>NaN</td>\n",
       "      <td>NaN</td>\n",
       "      <td>NaN</td>\n",
       "      <td>NaN</td>\n",
       "      <td>NaN</td>\n",
       "      <td>NaN</td>\n",
       "      <td>...</td>\n",
       "      <td>NaN</td>\n",
       "      <td>NaN</td>\n",
       "      <td>NaN</td>\n",
       "      <td>NaN</td>\n",
       "      <td>NaN</td>\n",
       "      <td>NaN</td>\n",
       "      <td>NaN</td>\n",
       "      <td>NaN</td>\n",
       "      <td>NaN</td>\n",
       "      <td>NaN</td>\n",
       "    </tr>\n",
       "    <tr>\n",
       "      <th>9075</th>\n",
       "      <td>JUMBO BAG WOODLAND ANIMALS</td>\n",
       "      <td>JUMBO STORAGE BAG SUKI</td>\n",
       "      <td>JUMBO BAG RED RETROSPOT</td>\n",
       "      <td>PACK OF 72 RETROSPOT CAKE CASES</td>\n",
       "      <td>RED RETROSPOT MINI CASES</td>\n",
       "      <td>WASH BAG VINTAGE ROSE PAISLEY</td>\n",
       "      <td>ASSORTED COLOURS SILK FAN</td>\n",
       "      <td>PLASTERS IN TIN WOODLAND ANIMALS</td>\n",
       "      <td>PLASTERS IN TIN CIRCUS PARADE</td>\n",
       "      <td>ROMANTIC PINKS RIBBONS</td>\n",
       "      <td>...</td>\n",
       "      <td>RECIPE BOX PANTRY YELLOW DESIGN</td>\n",
       "      <td>PACK OF 20 NAPKINS PANTRY DESIGN</td>\n",
       "      <td>RED RETROSPOT OVEN GLOVE</td>\n",
       "      <td>WOODLAND CHARLOTTE BAG</td>\n",
       "      <td>LUNCH BAG WOODLAND</td>\n",
       "      <td>ROUND SNACK BOXES SET OF4 WOODLAND</td>\n",
       "      <td>ROUND SNACK BOXES SET OF 4 FRUITS</td>\n",
       "      <td>STRAWBERRY LUNCH BOX WITH CUTLERY</td>\n",
       "      <td>RECIPE BOX BLUE SKETCHBOOK DESIGN</td>\n",
       "      <td>RECIPE BOX RETROSPOT</td>\n",
       "    </tr>\n",
       "  </tbody>\n",
       "</table>\n",
       "<p>5 rows × 41 columns</p>\n",
       "</div>"
      ],
      "text/plain": [
       "                               item_0                         item_1  \\\n",
       "19246  NATURAL SLATE HEART CHALKBOARD  CHILDRENS APRON APPLES DESIGN   \n",
       "5135       WOODEN ROUNDERS GARDEN SET    WHITE BAMBOO RIBS LAMPSHADE   \n",
       "15906  METAL SIGN TAKE IT OR LEAVE IT          METAL SIGN EMPIRE TEA   \n",
       "10141                             NaN                            NaN   \n",
       "9075       JUMBO BAG WOODLAND ANIMALS         JUMBO STORAGE BAG SUKI   \n",
       "\n",
       "                               item_2                           item_3  \\\n",
       "19246             WRAP  VINTAGE DOILY         WRAP VINTAGE LEAF DESIGN   \n",
       "5135                              NaN                              NaN   \n",
       "15906  HAND OVER THE CHOCOLATE   SIGN  METAL SIGN HER DINNER IS SERVED   \n",
       "10141                             NaN                              NaN   \n",
       "9075          JUMBO BAG RED RETROSPOT  PACK OF 72 RETROSPOT CAKE CASES   \n",
       "\n",
       "                                  item_4                              item_5  \\\n",
       "19246               WRAP POPPIES  DESIGN                   WRAP GINGHAM ROSE   \n",
       "5135                                 NaN                                 NaN   \n",
       "15906  DOORMAT UNION JACK GUNS AND ROSES  DOORMAT FANCY FONT HOME SWEET HOME   \n",
       "10141                                NaN                                 NaN   \n",
       "9075            RED RETROSPOT MINI CASES       WASH BAG VINTAGE ROSE PAISLEY   \n",
       "\n",
       "                              item_6                            item_7  \\\n",
       "19246              WRAP ENGLISH ROSE             WRAP PINK FAIRY CAKES   \n",
       "5135                             NaN                               NaN   \n",
       "15906  DOORMAT KEEP CALM AND COME IN       DOORMAT WELCOME TO OUR HOME   \n",
       "10141                            NaN                               NaN   \n",
       "9075       ASSORTED COLOURS SILK FAN  PLASTERS IN TIN WOODLAND ANIMALS   \n",
       "\n",
       "                              item_8                        item_9  ...  \\\n",
       "19246                CARD DOLLY GIRL  PENNY FARTHING BIRTHDAY CARD  ...   \n",
       "5135                             NaN                           NaN  ...   \n",
       "15906             DOORMAT FAIRY CAKE       DOORMAT WELCOME PUPPIES  ...   \n",
       "10141                            NaN                           NaN  ...   \n",
       "9075   PLASTERS IN TIN CIRCUS PARADE        ROMANTIC PINKS RIBBONS  ...   \n",
       "\n",
       "                               item_31                           item_32  \\\n",
       "19246  60 CAKE CASES VINTAGE CHRISTMAS      VINTAGE CHRISTMAS TABLECLOTH   \n",
       "5135                               NaN                               NaN   \n",
       "15906                              NaN                               NaN   \n",
       "10141                              NaN                               NaN   \n",
       "9075   RECIPE BOX PANTRY YELLOW DESIGN  PACK OF 20 NAPKINS PANTRY DESIGN   \n",
       "\n",
       "                        item_33                 item_34             item_35  \\\n",
       "19246                       NaN                     NaN                 NaN   \n",
       "5135                        NaN                     NaN                 NaN   \n",
       "15906                       NaN                     NaN                 NaN   \n",
       "10141                       NaN                     NaN                 NaN   \n",
       "9075   RED RETROSPOT OVEN GLOVE  WOODLAND CHARLOTTE BAG  LUNCH BAG WOODLAND   \n",
       "\n",
       "                                  item_36                            item_37  \\\n",
       "19246                                 NaN                                NaN   \n",
       "5135                                  NaN                                NaN   \n",
       "15906                                 NaN                                NaN   \n",
       "10141                                 NaN                                NaN   \n",
       "9075   ROUND SNACK BOXES SET OF4 WOODLAND  ROUND SNACK BOXES SET OF 4 FRUITS   \n",
       "\n",
       "                                 item_38                            item_39  \\\n",
       "19246                                NaN                                NaN   \n",
       "5135                                 NaN                                NaN   \n",
       "15906                                NaN                                NaN   \n",
       "10141                                NaN                                NaN   \n",
       "9075   STRAWBERRY LUNCH BOX WITH CUTLERY  RECIPE BOX BLUE SKETCHBOOK DESIGN   \n",
       "\n",
       "                    item_40  \n",
       "19246                   NaN  \n",
       "5135                    NaN  \n",
       "15906                   NaN  \n",
       "10141                   NaN  \n",
       "9075   RECIPE BOX RETROSPOT  \n",
       "\n",
       "[5 rows x 41 columns]"
      ]
     },
     "execution_count": 14,
     "metadata": {},
     "output_type": "execute_result"
    }
   ],
   "source": [
    "items_df.head()"
   ]
  },
  {
   "cell_type": "code",
   "execution_count": 15,
   "id": "ce0a6dd7",
   "metadata": {},
   "outputs": [],
   "source": [
    "baskets = items_df.T.apply(lambda x: x.dropna().tolist()).tolist()"
   ]
  },
  {
   "cell_type": "code",
   "execution_count": 16,
   "id": "9fd6e224",
   "metadata": {},
   "outputs": [
    {
     "name": "stdout",
     "output_type": "stream",
     "text": [
      "['NATURAL SLATE HEART CHALKBOARD', 'CHILDRENS APRON APPLES DESIGN', 'WRAP  VINTAGE DOILY', 'WRAP VINTAGE LEAF DESIGN', 'WRAP POPPIES  DESIGN', 'WRAP GINGHAM ROSE', 'WRAP ENGLISH ROSE', 'WRAP PINK FAIRY CAKES', 'CARD DOLLY GIRL', 'PENNY FARTHING BIRTHDAY CARD', 'BIRTHDAY CARD, RETRO SPOT', 'VINTAGE KID DOLLY CARD', 'FELTCRAFT 6 FLOWER FRIENDS', 'RED FLORAL FELTCRAFT SHOULDER BAG', 'BOX OF VINTAGE ALPHABET BLOCKS', 'HOME BUILDING BLOCK WORD', 'CARD BILLBOARD FONT', 'COWBOYS AND INDIANS BIRTHDAY CARD', 'SET OF 6 T-LIGHTS SANTA', 'SET OF 2 CHRISTMAS DECOUPAGE CANDLE', 'YULETIDE IMAGES GIFT WRAP SET', 'RIBBON REEL MAKING SNOWMEN', 'RIBBON REEL CHRISTMAS PRESENT', '3D VINTAGE CHRISTMAS STICKERS', 'ROTATING SILVER ANGELS T-LIGHT HLDR', 'SET OF 4 SANTA PLACE SETTINGS', 'SILVER STARS TABLE DECORATION', 'NOEL WOODEN BLOCK LETTERS', 'GARLAND WITH STARS AND BELLS', 'CHRISTMAS TREE HANGING SILVER', 'CHERUB HEART DECORATION SILVER', '60 CAKE CASES VINTAGE CHRISTMAS', 'VINTAGE CHRISTMAS TABLECLOTH']\n",
      "['WOODEN ROUNDERS GARDEN SET', 'WHITE BAMBOO RIBS LAMPSHADE']\n",
      "['METAL SIGN TAKE IT OR LEAVE IT', 'METAL SIGN EMPIRE TEA', 'HAND OVER THE CHOCOLATE   SIGN', 'METAL SIGN HER DINNER IS SERVED', 'DOORMAT UNION JACK GUNS AND ROSES', 'DOORMAT FANCY FONT HOME SWEET HOME', 'DOORMAT KEEP CALM AND COME IN', 'DOORMAT WELCOME TO OUR HOME', 'DOORMAT FAIRY CAKE', 'DOORMAT WELCOME PUPPIES', 'DOORMAT 3 SMILEY CATS', 'DOORMAT RESPECTABLE HOUSE', 'DOORMAT NEIGHBOURHOOD WITCH', 'DOORMAT AIRMAIL']\n",
      "[]\n",
      "['JUMBO BAG WOODLAND ANIMALS', 'JUMBO STORAGE BAG SUKI', 'JUMBO BAG RED RETROSPOT', 'PACK OF 72 RETROSPOT CAKE CASES', 'RED RETROSPOT MINI CASES', 'WASH BAG VINTAGE ROSE PAISLEY', 'ASSORTED COLOURS SILK FAN', 'PLASTERS IN TIN WOODLAND ANIMALS', 'PLASTERS IN TIN CIRCUS PARADE', 'ROMANTIC PINKS RIBBONS', 'BABY BOOM RIBBONS', 'CHOCOLATE BOX RIBBONS', 'SCANDINAVIAN REDS RIBBONS', 'TEA PARTY BIRTHDAY CARD', 'RING OF ROSES BIRTHDAY CARD', 'ELEPHANT, BIRTHDAY CARD', 'CARD CIRCUS PARADE', 'CARD SUKI BIRTHDAY', 'SLEEPING CAT ERASERS', 'CUTE CATS TAPE', 'STARS GIFT TAPE', 'RED RETROSPOT TAPE', 'WOODLAND PARTY BAG + STICKER SET', 'LUNCH BOX WITH CUTLERY RETROSPOT', 'SET/6 RED SPOTTY PAPER CUPS', 'CHARLOTTE BAG SUKI DESIGN', 'ALARM CLOCK BAKELIKE GREEN', 'ALARM CLOCK BAKELIKE RED', 'ALARM CLOCK BAKELIKE PINK', 'GUMBALL COAT RACK', 'JUNGLE POPSICLES ICE LOLLY MOULDS', 'RECIPE BOX PANTRY YELLOW DESIGN', 'PACK OF 20 NAPKINS PANTRY DESIGN', 'RED RETROSPOT OVEN GLOVE', 'WOODLAND CHARLOTTE BAG', 'LUNCH BAG WOODLAND', 'ROUND SNACK BOXES SET OF4 WOODLAND', 'ROUND SNACK BOXES SET OF 4 FRUITS', 'STRAWBERRY LUNCH BOX WITH CUTLERY', 'RECIPE BOX BLUE SKETCHBOOK DESIGN', 'RECIPE BOX RETROSPOT']\n"
     ]
    }
   ],
   "source": [
    "for i in baskets[:5]:\n",
    "    print(i)"
   ]
  },
  {
   "cell_type": "markdown",
   "id": "49952edb",
   "metadata": {},
   "source": [
    "## Algorithm Parameters\n",
    "Minimum Support = 0.01 , Minimum Confidence = 0.2 , Minimum Lift = 3 , Minimum length = 2"
   ]
  },
  {
   "cell_type": "code",
   "execution_count": 17,
   "id": "41162ce7",
   "metadata": {},
   "outputs": [],
   "source": [
    "association_rules = apriori(baskets, min_support=0.01, min_confidence=0.2, \n",
    "                            min_lift=3, min_length=2)\n",
    "association_results = list(association_rules)"
   ]
  },
  {
   "cell_type": "markdown",
   "id": "06420169",
   "metadata": {},
   "source": [
    "Q. Have a look at the rules and find out how many association rules we were able to generate?"
   ]
  },
  {
   "cell_type": "code",
   "execution_count": 18,
   "id": "92e5dacb",
   "metadata": {},
   "outputs": [
    {
     "name": "stdout",
     "output_type": "stream",
     "text": [
      "Rules generated:  83\n"
     ]
    }
   ],
   "source": [
    "print('Rules generated: ', len(association_results))"
   ]
  },
  {
   "cell_type": "code",
   "execution_count": 19,
   "id": "68c8976c",
   "metadata": {},
   "outputs": [
    {
     "name": "stdout",
     "output_type": "stream",
     "text": [
      "RelationRecord(items=frozenset({'PACK OF 72 RETROSPOT CAKE CASES', '60 TEATIME FAIRY CAKE CASES'}), support=0.010378781158520358, ordered_statistics=[OrderedStatistic(items_base=frozenset({'60 TEATIME FAIRY CAKE CASES'}), items_add=frozenset({'PACK OF 72 RETROSPOT CAKE CASES'}), confidence=0.3939393939393939, lift=9.368942590461577), OrderedStatistic(items_base=frozenset({'PACK OF 72 RETROSPOT CAKE CASES'}), items_add=frozenset({'60 TEATIME FAIRY CAKE CASES'}), confidence=0.24683544303797467, lift=9.368942590461577)])\n"
     ]
    }
   ],
   "source": [
    "print(association_results[0])"
   ]
  },
  {
   "cell_type": "markdown",
   "id": "bd731281",
   "metadata": {},
   "source": [
    "### Change the index value [0] of 'association_results[0]' to see a different rule"
   ]
  },
  {
   "cell_type": "code",
   "execution_count": 20,
   "id": "aadfa1bf",
   "metadata": {
    "scrolled": true
   },
   "outputs": [
    {
     "name": "stdout",
     "output_type": "stream",
     "text": [
      "RelationRecord(items=frozenset({'ALARM CLOCK BAKELIKE GREEN', 'ALARM CLOCK BAKELIKE IVORY'}), support=0.010112658564712143, ordered_statistics=[OrderedStatistic(items_base=frozenset({'ALARM CLOCK BAKELIKE GREEN'}), items_add=frozenset({'ALARM CLOCK BAKELIKE IVORY'}), confidence=0.31754874651810583, lift=16.885504808955695), OrderedStatistic(items_base=frozenset({'ALARM CLOCK BAKELIKE IVORY'}), items_add=frozenset({'ALARM CLOCK BAKELIKE GREEN'}), confidence=0.5377358490566038, lift=16.885504808955695)])\n"
     ]
    }
   ],
   "source": [
    "print(association_results[1])"
   ]
  },
  {
   "cell_type": "code",
   "execution_count": 21,
   "id": "5afe9f38",
   "metadata": {},
   "outputs": [
    {
     "name": "stdout",
     "output_type": "stream",
     "text": [
      "RelationRecord(items=frozenset({'HEART OF WICKER LARGE', 'HEART OF WICKER SMALL'}), support=0.014814157721990597, ordered_statistics=[OrderedStatistic(items_base=frozenset({'HEART OF WICKER LARGE'}), items_add=frozenset({'HEART OF WICKER SMALL'}), confidence=0.5107033639143731, lift=13.740236327939686), OrderedStatistic(items_base=frozenset({'HEART OF WICKER SMALL'}), items_add=frozenset({'HEART OF WICKER LARGE'}), confidence=0.3985680190930788, lift=13.740236327939687)])\n"
     ]
    }
   ],
   "source": [
    "print(association_results[15])"
   ]
  },
  {
   "cell_type": "markdown",
   "id": "14b0dbc1",
   "metadata": {},
   "source": [
    "## Analysing the Results\n",
    "Analysing the results may include checking what kind of items are featured in some of the rules. Using the method in the cell below, you can display the results."
   ]
  },
  {
   "cell_type": "code",
   "execution_count": 22,
   "id": "79496dad",
   "metadata": {},
   "outputs": [],
   "source": [
    "def display_rules(association_results):\n",
    "    for item in association_results:\n",
    "        pair = item[0] \n",
    "        items = [x for x in pair]\n",
    "        print(\"Rule: \" + items[0] + \" -> \" + items[1])\n",
    "        print(\"Support: \" + str(item[1]))\n",
    "        print(\"Confidence: \" + str(item[2][0][2]))\n",
    "        print(\"Lift: \" + str(item[2][0][3]))\n",
    "        print(\"=====================================\")"
   ]
  },
  {
   "cell_type": "markdown",
   "id": "e1e6238d",
   "metadata": {},
   "source": [
    "#### Displaying the rules only for 10 results"
   ]
  },
  {
   "cell_type": "code",
   "execution_count": 23,
   "id": "a80470b3",
   "metadata": {},
   "outputs": [
    {
     "name": "stdout",
     "output_type": "stream",
     "text": [
      "Rule: PACK OF 72 RETROSPOT CAKE CASES -> 60 TEATIME FAIRY CAKE CASES\n",
      "Support: 0.010378781158520358\n",
      "Confidence: 0.3939393939393939\n",
      "Lift: 9.368942590461577\n",
      "=====================================\n",
      "Rule: ALARM CLOCK BAKELIKE GREEN -> ALARM CLOCK BAKELIKE IVORY\n",
      "Support: 0.010112658564712143\n",
      "Confidence: 0.31754874651810583\n",
      "Lift: 16.885504808955695\n",
      "=====================================\n",
      "Rule: ALARM CLOCK BAKELIKE GREEN -> ALARM CLOCK BAKELIKE PINK\n",
      "Support: 0.01210857801827375\n",
      "Confidence: 0.3802228412256267\n",
      "Lift: 15.172573766854832\n",
      "=====================================\n",
      "Rule: ALARM CLOCK BAKELIKE GREEN -> ALARM CLOCK BAKELIKE RED\n",
      "Support: 0.01969307194180786\n",
      "Confidence: 0.6183844011142062\n",
      "Lift: 17.920430215322487\n",
      "=====================================\n",
      "Rule: ALARM CLOCK BAKELIKE IVORY -> ALARM CLOCK BAKELIKE RED\n",
      "Support: 0.011398917768118513\n",
      "Confidence: 0.6061320754716981\n",
      "Lift: 17.56536474753844\n",
      "=====================================\n",
      "Rule: ALARM CLOCK BAKELIKE PINK -> ALARM CLOCK BAKELIKE RED\n",
      "Support: 0.014459327596912978\n",
      "Confidence: 0.576991150442478\n",
      "Lift: 16.72087722092045\n",
      "=====================================\n",
      "Rule: CHARLOTTE BAG SUKI DESIGN -> CHARLOTTE BAG PINK POLKADOT\n",
      "Support: 0.011443271533753215\n",
      "Confidence: 0.49710982658959535\n",
      "Lift: 18.13566043736087\n",
      "=====================================\n",
      "Rule: HOT WATER BOTTLE TEA AND SYMPATHY -> CHOCOLATE HOT WATER BOTTLE\n",
      "Support: 0.0111327951743103\n",
      "Confidence: 0.40224358974358976\n",
      "Lift: 19.629835442335445\n",
      "=====================================\n",
      "Rule: SPACEBOY LUNCH BOX -> DOLLY GIRL LUNCH BOX\n",
      "Support: 0.015878648097223454\n",
      "Confidence: 0.5830618892508143\n",
      "Lift: 21.479923782759574\n",
      "=====================================\n",
      "Rule: GARDENERS KNEELING PAD KEEP CALM -> GARDENERS KNEELING PAD CUP OF TEA\n",
      "Support: 0.01618912445666637\n",
      "Confidence: 0.7115009746588694\n",
      "Lift: 24.832044852413112\n",
      "=====================================\n"
     ]
    }
   ],
   "source": [
    "display_rules(association_results[:10])"
   ]
  },
  {
   "cell_type": "code",
   "execution_count": 24,
   "id": "3c5de6d8",
   "metadata": {},
   "outputs": [
    {
     "data": {
      "text/plain": [
       "[('WHITE HANGING HEART T-LIGHT HOLDER', 1637),\n",
       " ('REGENCY CAKESTAND 3 TIER', 1566),\n",
       " ('JUMBO BAG RED RETROSPOT', 1423),\n",
       " ('PARTY BUNTING', 1167),\n",
       " ('LUNCH BAG RED RETROSPOT', 1126),\n",
       " ('SET OF 3 CAKE TINS PANTRY DESIGN', 1044),\n",
       " ('ASSORTED COLOUR BIRD ORNAMENT', 1014),\n",
       " ('PACK OF 72 RETROSPOT CAKE CASES', 969),\n",
       " ('LUNCH BAG  BLACK SKULL', 963),\n",
       " (\"PAPER CHAIN KIT 50'S CHRISTMAS\", 941)]"
      ]
     },
     "execution_count": 24,
     "metadata": {},
     "output_type": "execute_result"
    }
   ],
   "source": [
    "from collections import Counter\n",
    " \n",
    "counter = Counter(baskets[0])\n",
    "for i in baskets[1:]:\n",
    "    if i != 'nan':\n",
    "        counter.update(i)\n",
    " \n",
    "del counter['nan']\n",
    "counter.most_common(10)"
   ]
  },
  {
   "cell_type": "markdown",
   "id": "758816dc",
   "metadata": {},
   "source": [
    "## Q4 (a) How many of these items can you find in the rules you have just displayed?\n",
    "\n",
    "In the association rule displayed above which is made up of the first 10 rows of the association rule, there is only one item from the most common top 10 rule (Out[27]) and the item is PACK OF 72 RETROSPOT CAKE CASES."
   ]
  },
  {
   "cell_type": "markdown",
   "id": "1022270c",
   "metadata": {},
   "source": [
    "## Q4 (b) Are all the top 10 items included? Provide an explanation as to why these items may be missing/present in the rules.\n",
    "\n",
    "There is only one item from the top ten rule included in the most common.\n",
    "\n",
    "\n",
    "This is because association rule mining works by identifying patterns of co-occurrence between items in transactions, and these patterns are influenced by factors such as the minimum support and confidence thresholds used for the analysis, the size and diversity of the dataset, and the choice of algorithm used for mining.\n",
    "\n",
    "Therefore, it's possible that some of the top 10 frequent items may not have strong association rules with other items in the dataset, or their association rules may not have met the minimum support and confidence thresholds used in the analysis, resulting in their absence from the rules displayed. Additionally, it's also possible that some of the items in the rules may not be frequent items in the dataset but have strong association rules with other items, leading to their inclusion in the rules."
   ]
  },
  {
   "cell_type": "markdown",
   "id": "84bb3e15",
   "metadata": {},
   "source": [
    "### Q5. Run the apriori algorithm with the following three different settings:\n",
    "Calculate the number of rules you get for each setting and how the quality of the rules differ in each setting.\n",
    "- Setting 1: Min Support = 0.015, Min Confidence = 0.7, Min Lift = 3\n",
    "\n",
    "#### Answer"
   ]
  },
  {
   "cell_type": "code",
   "execution_count": 25,
   "id": "60e90203",
   "metadata": {},
   "outputs": [],
   "source": [
    "association_rules1 = apriori(baskets, min_support=0.015, min_confidence=0.7, \n",
    "                            min_lift=3, min_length=2)\n",
    "association_results1 = list(association_rules1)"
   ]
  },
  {
   "cell_type": "code",
   "execution_count": 26,
   "id": "09fcb2f6",
   "metadata": {},
   "outputs": [
    {
     "name": "stdout",
     "output_type": "stream",
     "text": [
      "Rules generated:  5\n"
     ]
    }
   ],
   "source": [
    "print('Rules generated: ', len(association_results1))"
   ]
  },
  {
   "cell_type": "code",
   "execution_count": 27,
   "id": "2af4a017",
   "metadata": {
    "scrolled": true
   },
   "outputs": [
    {
     "name": "stdout",
     "output_type": "stream",
     "text": [
      "RelationRecord(items=frozenset({'GARDENERS KNEELING PAD KEEP CALM', 'GARDENERS KNEELING PAD CUP OF TEA'}), support=0.01618912445666637, ordered_statistics=[OrderedStatistic(items_base=frozenset({'GARDENERS KNEELING PAD CUP OF TEA'}), items_add=frozenset({'GARDENERS KNEELING PAD KEEP CALM'}), confidence=0.7115009746588694, lift=24.832044852413112)])\n"
     ]
    }
   ],
   "source": [
    "print(association_results1[0])"
   ]
  },
  {
   "cell_type": "code",
   "execution_count": 28,
   "id": "d028ad8c",
   "metadata": {},
   "outputs": [],
   "source": [
    "def display_rules(association_results1):\n",
    " for item in association_results1:\n",
    "     pair = item[0]\n",
    "     items = [x for x in pair]\n",
    "     print(\"Rule: \" + items[0] + \" -> \" + items[1])\n",
    "     print(\"Support: \" + str(item[1]))\n",
    "     print(\"Confidence: \" + str(item[2][0][2]))\n",
    "     print(\"Lift: \" + str(item[2][0][3]))\n",
    "     print(\"=====================================\")"
   ]
  },
  {
   "cell_type": "code",
   "execution_count": 29,
   "id": "9891ae58",
   "metadata": {
    "scrolled": true
   },
   "outputs": [
    {
     "name": "stdout",
     "output_type": "stream",
     "text": [
      "Rule: GARDENERS KNEELING PAD KEEP CALM -> GARDENERS KNEELING PAD CUP OF TEA\n",
      "Support: 0.01618912445666637\n",
      "Confidence: 0.7115009746588694\n",
      "Lift: 24.832044852413112\n",
      "=====================================\n",
      "Rule: GREEN REGENCY TEACUP AND SAUCER -> PINK REGENCY TEACUP AND SAUCER\n",
      "Support: 0.020535793488867204\n",
      "Confidence: 0.7834179357021995\n",
      "Lift: 22.189624093394208\n",
      "=====================================\n",
      "Rule: GREEN REGENCY TEACUP AND SAUCER -> ROSES REGENCY TEACUP AND SAUCER\n",
      "Support: 0.02523729264614566\n",
      "Confidence: 0.714824120603015\n",
      "Lift: 19.726345927926044\n",
      "=====================================\n",
      "Rule: ROSES REGENCY TEACUP AND SAUCER -> PINK REGENCY TEACUP AND SAUCER\n",
      "Support: 0.019870487004346668\n",
      "Confidence: 0.7580372250423011\n",
      "Lift: 20.918858354716917\n",
      "=====================================\n",
      "Rule: GREEN REGENCY TEACUP AND SAUCER -> ROSES REGENCY TEACUP AND SAUCER\n",
      "Support: 0.017519737425707442\n",
      "Confidence: 0.8531317494600432\n",
      "Lift: 23.543094765393068\n",
      "=====================================\n"
     ]
    }
   ],
   "source": [
    "display_rules(association_results1[:5])"
   ]
  },
  {
   "cell_type": "markdown",
   "id": "e4341fb2",
   "metadata": {},
   "source": [
    "Based on the rules displayed above, we can see that all of the rules have a relatively high support, indicating that the items in the rules are frequently purchased together. However, the confidence and lift values vary across the different rules.\n",
    "\n",
    "For example, the rule \"PINK REGENCY TEACUP AND SAUCER -> ROSES REGENCY TEACUP AND SAUCER\" has a high confidence value of 0.853, indicating that when a customer buys a pink regency teacup and saucer, they are very likely to also buy a roses regency teacup and saucer. This is further supported by a high lift value of 23.54, indicating that the rule is much stronger than what we would expect by chance alone.\n",
    "\n",
    "In contrast, the rule \"GARDENERS KNEELING PAD KEEP CALM -> GARDENERS KNEELING PAD CUP OF TEA\" has a lower confidence value of 0.712 and a high lift value of 24.83. This indicates that the association between the two items is not as strong as the other rules, but when a customer does purchase the \"GARDENERS KNEELING PAD KEEP CALM\" item, they are much more likely to also purchase the \"GARDENERS KNEELING PAD CUP OF TEA\" item than what we would expect by chance.\n",
    "\n",
    "Overall, the quality of the association rules depends on the specific context and goals of each analysis and data structure. However, based on the support, confidence, and lift values, we can see that these rules do have some predictive power and could be useful for guiding product recommendations or marketing strategies."
   ]
  },
  {
   "cell_type": "markdown",
   "id": "5ceae81e",
   "metadata": {},
   "source": [
    "### - Setting 2: Min Support = 0.009, Min Confidence = 0.5, Min Lift = 3"
   ]
  },
  {
   "cell_type": "code",
   "execution_count": 30,
   "id": "f5c12ce9",
   "metadata": {},
   "outputs": [],
   "source": [
    "association_rules2 = apriori(baskets, min_support=0.009, min_confidence=0.5, \n",
    "                            min_lift=3, min_length=2)\n",
    "association_results2 = list(association_rules2)"
   ]
  },
  {
   "cell_type": "code",
   "execution_count": 31,
   "id": "7398c657",
   "metadata": {},
   "outputs": [
    {
     "name": "stdout",
     "output_type": "stream",
     "text": [
      "Rules generated:  51\n"
     ]
    }
   ],
   "source": [
    "print('Rules generated: ', len(association_results2))"
   ]
  },
  {
   "cell_type": "code",
   "execution_count": 32,
   "id": "eed6d6e1",
   "metadata": {},
   "outputs": [
    {
     "name": "stdout",
     "output_type": "stream",
     "text": [
      "RelationRecord(items=frozenset({'ALARM CLOCK BAKELIKE CHOCOLATE', 'ALARM CLOCK BAKELIKE RED'}), support=0.009225583252018096, ordered_statistics=[OrderedStatistic(items_base=frozenset({'ALARM CLOCK BAKELIKE CHOCOLATE'}), items_add=frozenset({'ALARM CLOCK BAKELIKE RED'}), confidence=0.6459627329192547, lift=18.719634674032797)])\n"
     ]
    }
   ],
   "source": [
    "print(association_results2[0])"
   ]
  },
  {
   "cell_type": "code",
   "execution_count": 33,
   "id": "bc1f9f19",
   "metadata": {},
   "outputs": [],
   "source": [
    "def display_rules(association_results2):\n",
    " for item in association_results2:\n",
    "     pair = item[0]\n",
    "     items = [x for x in pair]\n",
    "     print(\"Rule: \" + items[0] + \" -> \" + items[1])\n",
    "     print(\"Support: \" + str(item[1]))\n",
    "     print(\"Confidence: \" + str(item[2][0][2]))\n",
    "     print(\"Lift: \" + str(item[2][0][3]))\n",
    "     print(\"=====================================\")"
   ]
  },
  {
   "cell_type": "code",
   "execution_count": 34,
   "id": "9c5e2db7",
   "metadata": {},
   "outputs": [
    {
     "name": "stdout",
     "output_type": "stream",
     "text": [
      "Rule: ALARM CLOCK BAKELIKE CHOCOLATE -> ALARM CLOCK BAKELIKE RED\n",
      "Support: 0.009225583252018096\n",
      "Confidence: 0.6459627329192547\n",
      "Lift: 18.719634674032797\n",
      "=====================================\n",
      "Rule: ALARM CLOCK BAKELIKE GREEN -> ALARM CLOCK BAKELIKE IVORY\n",
      "Support: 0.010112658564712143\n",
      "Confidence: 0.5377358490566038\n",
      "Lift: 16.885504808955695\n",
      "=====================================\n",
      "Rule: ALARM CLOCK BAKELIKE GREEN -> ALARM CLOCK BAKELIKE RED\n",
      "Support: 0.01969307194180786\n",
      "Confidence: 0.6183844011142062\n",
      "Lift: 17.920430215322487\n",
      "=====================================\n",
      "Rule: ALARM CLOCK BAKELIKE IVORY -> ALARM CLOCK BAKELIKE RED\n",
      "Support: 0.011398917768118513\n",
      "Confidence: 0.6061320754716981\n",
      "Lift: 17.56536474753844\n",
      "=====================================\n",
      "Rule: ALARM CLOCK BAKELIKE ORANGE -> ALARM CLOCK BAKELIKE RED\n",
      "Support: 0.009713474673999823\n",
      "Confidence: 0.6930379746835443\n",
      "Lift: 20.083848556831867\n",
      "=====================================\n",
      "Rule: ALARM CLOCK BAKELIKE PINK -> ALARM CLOCK BAKELIKE RED\n",
      "Support: 0.014459327596912978\n",
      "Confidence: 0.576991150442478\n",
      "Lift: 16.72087722092045\n",
      "=====================================\n",
      "Rule: BAKING SET SPACEBOY DESIGN -> BAKING SET 9 PIECE RETROSPOT\n",
      "Support: 0.009092521955113989\n",
      "Confidence: 0.597667638483965\n",
      "Lift: 19.14064570633448\n",
      "=====================================\n",
      "Rule: BATHROOM METAL SIGN -> TOILET METAL SIGN\n",
      "Support: 0.00966912090836512\n",
      "Confidence: 0.6707692307692309\n",
      "Lift: 30.675787174286167\n",
      "=====================================\n",
      "Rule: BLUE HARMONICA IN BOX -> RED  HARMONICA IN BOX\n",
      "Support: 0.00966912090836512\n",
      "Confidence: 0.5034642032332564\n",
      "Lift: 22.611760808958163\n",
      "=====================================\n",
      "Rule: HOT WATER BOTTLE TEA AND SYMPATHY -> CHOCOLATE HOT WATER BOTTLE\n",
      "Support: 0.0111327951743103\n",
      "Confidence: 0.5432900432900434\n",
      "Lift: 19.629835442335445\n",
      "=====================================\n"
     ]
    }
   ],
   "source": [
    "display_rules(association_results2[:10])"
   ]
  },
  {
   "cell_type": "markdown",
   "id": "5141ea64",
   "metadata": {},
   "source": [
    "Based on the ruleset above, the quality of the rules can be evaluated in terms of support, confidence, and lift values. Overall, the ruleset shows moderate to high quality.\n",
    "\n",
    "For example, the rule \"ALARM CLOCK BAKELIKE GREEN -> ALARM CLOCK BAKELIKE IVORY\" has a support of 0.010 and a confidence of 0.538. This indicates that the items \"ALARM CLOCK BAKELIKE GREEN\" and \"ALARM CLOCK BAKELIKE IVORY\" appear frequently together in the transactions, and when \"ALARM CLOCK BAKELIKE GREEN\" is present, there is a 53.8% chance that \"ALARM CLOCK BAKELIKE IVORY\" will also be present. Furthermore, the lift value of 16.89 indicates that the presence of \"ALARM CLOCK BAKELIKE GREEN\" has a strong positive effect on the occurrence of \"ALARM CLOCK BAKELIKE IVORY\".\n",
    "\n",
    "We can use the product to further illustrate the quality of the ruleset. For example, the \"ALARM CLOCK BAKELIKE\" item is a retro-style alarm clock with a colorful bakelite case. The rule \"ALARM CLOCK BAKELIKE GREEN -> ALARM CLOCK BAKELIKE IVORY\" suggests that customers who buy the green version of the alarm clock are also likely to buy the ivory version. This information can be useful for product recommendation and marketing strategies.\n",
    "\n",
    "Similarly, the rule \"CHOCOLATE HOT WATER BOTTLE -> HOT WATER BOTTLE TEA AND SYMPATHY\" has a support of 0.011, a confidence of 0.543, and a lift of 19.63. This suggests that customers who buy the \"CHOCOLATE HOT WATER BOTTLE\" are likely to also buy the \"HOT WATER BOTTLE TEA AND SYMPATHY\". This information can be useful for cross-selling and upselling strategies."
   ]
  },
  {
   "cell_type": "markdown",
   "id": "f51c6e63",
   "metadata": {},
   "source": [
    "### - Setting 3: Min Support = 0.015, Min Confidence = 0.5, Min Lift = 9"
   ]
  },
  {
   "cell_type": "code",
   "execution_count": 35,
   "id": "f60e86b4",
   "metadata": {},
   "outputs": [],
   "source": [
    "association_rules3 = apriori(baskets, min_support=0.015, min_confidence=0.5, \n",
    "                            min_lift=9, min_length=3)\n",
    "association_results3 = list(association_rules3)"
   ]
  },
  {
   "cell_type": "code",
   "execution_count": 36,
   "id": "3957af74",
   "metadata": {},
   "outputs": [
    {
     "name": "stdout",
     "output_type": "stream",
     "text": [
      "Rules generated:  11\n"
     ]
    }
   ],
   "source": [
    "print('Rules generated: ', len(association_results3))"
   ]
  },
  {
   "cell_type": "code",
   "execution_count": 37,
   "id": "5d8d9511",
   "metadata": {},
   "outputs": [
    {
     "name": "stdout",
     "output_type": "stream",
     "text": [
      "RelationRecord(items=frozenset({'ALARM CLOCK BAKELIKE GREEN', 'ALARM CLOCK BAKELIKE RED'}), support=0.01969307194180786, ordered_statistics=[OrderedStatistic(items_base=frozenset({'ALARM CLOCK BAKELIKE GREEN'}), items_add=frozenset({'ALARM CLOCK BAKELIKE RED'}), confidence=0.6183844011142062, lift=17.920430215322487), OrderedStatistic(items_base=frozenset({'ALARM CLOCK BAKELIKE RED'}), items_add=frozenset({'ALARM CLOCK BAKELIKE GREEN'}), confidence=0.5706940874035991, lift=17.920430215322487)])\n"
     ]
    }
   ],
   "source": [
    "print(association_results3[0])"
   ]
  },
  {
   "cell_type": "code",
   "execution_count": 38,
   "id": "48e37237",
   "metadata": {},
   "outputs": [],
   "source": [
    "def display_rules(association_results3):\n",
    " for item in association_results3:\n",
    "     pair = item[0]\n",
    "     items = [x for x in pair]\n",
    "     print(\"Rule: \" + items[0] + \" -> \" + items[1])\n",
    "     print(\"Support: \" + str(item[1]))\n",
    "     print(\"Confidence: \" + str(item[2][0][2]))\n",
    "     print(\"Lift: \" + str(item[2][0][3]))\n",
    "     print(\"=====================================\")"
   ]
  },
  {
   "cell_type": "code",
   "execution_count": 39,
   "id": "5768a268",
   "metadata": {},
   "outputs": [
    {
     "name": "stdout",
     "output_type": "stream",
     "text": [
      "Rule: ALARM CLOCK BAKELIKE GREEN -> ALARM CLOCK BAKELIKE RED\n",
      "Support: 0.01969307194180786\n",
      "Confidence: 0.6183844011142062\n",
      "Lift: 17.920430215322487\n",
      "=====================================\n",
      "Rule: SPACEBOY LUNCH BOX -> DOLLY GIRL LUNCH BOX\n",
      "Support: 0.015878648097223454\n",
      "Confidence: 0.5830618892508143\n",
      "Lift: 21.479923782759574\n",
      "=====================================\n",
      "Rule: GARDENERS KNEELING PAD KEEP CALM -> GARDENERS KNEELING PAD CUP OF TEA\n",
      "Support: 0.01618912445666637\n",
      "Confidence: 0.7115009746588694\n",
      "Lift: 24.832044852413112\n",
      "=====================================\n",
      "Rule: GREEN REGENCY TEACUP AND SAUCER -> PINK REGENCY TEACUP AND SAUCER\n",
      "Support: 0.020535793488867204\n",
      "Confidence: 0.5816582914572863\n",
      "Lift: 22.189624093394208\n",
      "=====================================\n",
      "Rule: GREEN REGENCY TEACUP AND SAUCER -> ROSES REGENCY TEACUP AND SAUCER\n",
      "Support: 0.02523729264614566\n",
      "Confidence: 0.714824120603015\n",
      "Lift: 19.726345927926044\n",
      "=====================================\n",
      "Rule: JUMBO  BAG BAROQUE BLACK WHITE -> JUMBO BAG RED RETROSPOT\n",
      "Support: 0.01636653951920518\n",
      "Confidence: 0.5738724727838258\n",
      "Lift: 9.208917275006502\n",
      "=====================================\n",
      "Rule: JUMBO BAG STRAWBERRY -> JUMBO BAG RED RETROSPOT\n",
      "Support: 0.015834294331588752\n",
      "Confidence: 0.6176470588235294\n",
      "Lift: 9.911366966715512\n",
      "=====================================\n",
      "Rule: ROSES REGENCY TEACUP AND SAUCER -> PINK REGENCY TEACUP AND SAUCER\n",
      "Support: 0.019870487004346668\n",
      "Confidence: 0.7580372250423011\n",
      "Lift: 20.918858354716917\n",
      "=====================================\n",
      "Rule: RED RETROSPOT CHARLOTTE BAG -> WOODLAND CHARLOTTE BAG\n",
      "Support: 0.015124634081433514\n",
      "Confidence: 0.5711892797319933\n",
      "Lift: 17.9609951197176\n",
      "=====================================\n",
      "Rule: WOODEN FRAME ANTIQUE WHITE -> WOODEN PICTURE FRAME WHITE FINISH\n",
      "Support: 0.015479464206511133\n",
      "Confidence: 0.5344563552833078\n",
      "Lift: 16.46154779537904\n",
      "=====================================\n"
     ]
    }
   ],
   "source": [
    "display_rules(association_results3[:10])"
   ]
  },
  {
   "cell_type": "markdown",
   "id": "43ec7165",
   "metadata": {},
   "source": [
    "Support refers to the proportion of transactions in the dataset that contain both the antecedent and consequent of a rule. In the given ruleset, the support values range from 0.0151 to 0.0252, indicating that the rules are not particularly common in the dataset.\n",
    "\n",
    "Confidence, on the other hand, measures the proportion of transactions containing the antecedent that also contain the consequent. The confidence values in the ruleset range from 0.534 to 0.758, indicating that the rules have a relatively high level of confidence.\n",
    "\n",
    "Lift measures the increase in the likelihood of the consequent given the antecedent, compared to the likelihood of the consequent in the absence of the antecedent. The lift values in the ruleset range from 9.21 to 24.83, indicating that the rules are strongly associated with the consequent.\n",
    "\n",
    "Overall, the ruleset suggests that there are several strong associations between products in the dataset, with high levels of confidence and lift. The highest lift value of 24.83 is seen in the rule \"GARDENERS KNEELING PAD KEEP CALM -> GARDENERS KNEELING PAD CUP OF TEA\", indicating a very strong association between these two products. However, it is worth noting that the support values for all the rules are relatively low, indicating that these associations are not particularly common in the dataset.\n",
    "\n",
    "Comparing the rules in the dataset, we can see that the rules with the highest lift values also tend to have high confidence values. For example, the rules \"GARDENERS KNEELING PAD KEEP CALM -> GARDENERS KNEELING PAD CUP OF TEA\" and \"ROSES REGENCY TEACUP AND SAUCER -> PINK REGENCY TEACUP AND SAUCER\" have the highest lift values of 24.83 and 20.92, respectively, and also have high confidence values of 0.711 and 0.758, respectively. This suggests that these rules are particularly strong associations between the products.\n",
    "\n",
    "In summary, the ruleset contains several strong associations between products with high confidence and lift values. However, the support values suggest that these associations are not particularly common in the dataset."
   ]
  },
  {
   "cell_type": "markdown",
   "id": "3020a8e4",
   "metadata": {},
   "source": [
    "### Q6. Filter the transactions on the 'day' of the week or on the 'month' to perform analysis on either of them on two durations. Generate association rules to discover if there are significant differences in the buying behaviour between chosen durations, and, discuss if the rules are useful."
   ]
  },
  {
   "cell_type": "code",
   "execution_count": 40,
   "id": "4e6b9c6c",
   "metadata": {},
   "outputs": [],
   "source": [
    "data['Date']=pd.to_datetime(data['Date'])"
   ]
  },
  {
   "cell_type": "code",
   "execution_count": 41,
   "id": "3f468a35",
   "metadata": {},
   "outputs": [
    {
     "data": {
      "text/html": [
       "<div>\n",
       "<style scoped>\n",
       "    .dataframe tbody tr th:only-of-type {\n",
       "        vertical-align: middle;\n",
       "    }\n",
       "\n",
       "    .dataframe tbody tr th {\n",
       "        vertical-align: top;\n",
       "    }\n",
       "\n",
       "    .dataframe thead th {\n",
       "        text-align: right;\n",
       "    }\n",
       "</style>\n",
       "<table border=\"1\" class=\"dataframe\">\n",
       "  <thead>\n",
       "    <tr style=\"text-align: right;\">\n",
       "      <th></th>\n",
       "      <th>transaction_ID</th>\n",
       "      <th>Date</th>\n",
       "      <th>Time</th>\n",
       "      <th>item_0</th>\n",
       "      <th>item_1</th>\n",
       "      <th>item_2</th>\n",
       "      <th>item_3</th>\n",
       "      <th>item_4</th>\n",
       "      <th>item_5</th>\n",
       "      <th>item_6</th>\n",
       "      <th>...</th>\n",
       "      <th>item_33</th>\n",
       "      <th>item_34</th>\n",
       "      <th>item_35</th>\n",
       "      <th>item_36</th>\n",
       "      <th>item_37</th>\n",
       "      <th>item_38</th>\n",
       "      <th>item_39</th>\n",
       "      <th>item_40</th>\n",
       "      <th>Hour</th>\n",
       "      <th>Month</th>\n",
       "    </tr>\n",
       "  </thead>\n",
       "  <tbody>\n",
       "    <tr>\n",
       "      <th>19246</th>\n",
       "      <td>564166</td>\n",
       "      <td>2011-08-23</td>\n",
       "      <td>13:40</td>\n",
       "      <td>NATURAL SLATE HEART CHALKBOARD</td>\n",
       "      <td>CHILDRENS APRON APPLES DESIGN</td>\n",
       "      <td>WRAP  VINTAGE DOILY</td>\n",
       "      <td>WRAP VINTAGE LEAF DESIGN</td>\n",
       "      <td>WRAP POPPIES  DESIGN</td>\n",
       "      <td>WRAP GINGHAM ROSE</td>\n",
       "      <td>WRAP ENGLISH ROSE</td>\n",
       "      <td>...</td>\n",
       "      <td>NaN</td>\n",
       "      <td>NaN</td>\n",
       "      <td>NaN</td>\n",
       "      <td>NaN</td>\n",
       "      <td>NaN</td>\n",
       "      <td>NaN</td>\n",
       "      <td>NaN</td>\n",
       "      <td>NaN</td>\n",
       "      <td>13</td>\n",
       "      <td>8</td>\n",
       "    </tr>\n",
       "    <tr>\n",
       "      <th>5135</th>\n",
       "      <td>543751</td>\n",
       "      <td>2011-11-02</td>\n",
       "      <td>14:00</td>\n",
       "      <td>WOODEN ROUNDERS GARDEN SET</td>\n",
       "      <td>WHITE BAMBOO RIBS LAMPSHADE</td>\n",
       "      <td>NaN</td>\n",
       "      <td>NaN</td>\n",
       "      <td>NaN</td>\n",
       "      <td>NaN</td>\n",
       "      <td>NaN</td>\n",
       "      <td>...</td>\n",
       "      <td>NaN</td>\n",
       "      <td>NaN</td>\n",
       "      <td>NaN</td>\n",
       "      <td>NaN</td>\n",
       "      <td>NaN</td>\n",
       "      <td>NaN</td>\n",
       "      <td>NaN</td>\n",
       "      <td>NaN</td>\n",
       "      <td>14</td>\n",
       "      <td>11</td>\n",
       "    </tr>\n",
       "    <tr>\n",
       "      <th>15906</th>\n",
       "      <td>559340</td>\n",
       "      <td>2011-07-07</td>\n",
       "      <td>16:51</td>\n",
       "      <td>METAL SIGN TAKE IT OR LEAVE IT</td>\n",
       "      <td>METAL SIGN EMPIRE TEA</td>\n",
       "      <td>HAND OVER THE CHOCOLATE   SIGN</td>\n",
       "      <td>METAL SIGN HER DINNER IS SERVED</td>\n",
       "      <td>DOORMAT UNION JACK GUNS AND ROSES</td>\n",
       "      <td>DOORMAT FANCY FONT HOME SWEET HOME</td>\n",
       "      <td>DOORMAT KEEP CALM AND COME IN</td>\n",
       "      <td>...</td>\n",
       "      <td>NaN</td>\n",
       "      <td>NaN</td>\n",
       "      <td>NaN</td>\n",
       "      <td>NaN</td>\n",
       "      <td>NaN</td>\n",
       "      <td>NaN</td>\n",
       "      <td>NaN</td>\n",
       "      <td>NaN</td>\n",
       "      <td>16</td>\n",
       "      <td>7</td>\n",
       "    </tr>\n",
       "    <tr>\n",
       "      <th>10141</th>\n",
       "      <td>550943</td>\n",
       "      <td>2011-04-21</td>\n",
       "      <td>15:51</td>\n",
       "      <td>NaN</td>\n",
       "      <td>NaN</td>\n",
       "      <td>NaN</td>\n",
       "      <td>NaN</td>\n",
       "      <td>NaN</td>\n",
       "      <td>NaN</td>\n",
       "      <td>NaN</td>\n",
       "      <td>...</td>\n",
       "      <td>NaN</td>\n",
       "      <td>NaN</td>\n",
       "      <td>NaN</td>\n",
       "      <td>NaN</td>\n",
       "      <td>NaN</td>\n",
       "      <td>NaN</td>\n",
       "      <td>NaN</td>\n",
       "      <td>NaN</td>\n",
       "      <td>15</td>\n",
       "      <td>4</td>\n",
       "    </tr>\n",
       "    <tr>\n",
       "      <th>9075</th>\n",
       "      <td>549316</td>\n",
       "      <td>2011-08-04</td>\n",
       "      <td>09:54</td>\n",
       "      <td>JUMBO BAG WOODLAND ANIMALS</td>\n",
       "      <td>JUMBO STORAGE BAG SUKI</td>\n",
       "      <td>JUMBO BAG RED RETROSPOT</td>\n",
       "      <td>PACK OF 72 RETROSPOT CAKE CASES</td>\n",
       "      <td>RED RETROSPOT MINI CASES</td>\n",
       "      <td>WASH BAG VINTAGE ROSE PAISLEY</td>\n",
       "      <td>ASSORTED COLOURS SILK FAN</td>\n",
       "      <td>...</td>\n",
       "      <td>RED RETROSPOT OVEN GLOVE</td>\n",
       "      <td>WOODLAND CHARLOTTE BAG</td>\n",
       "      <td>LUNCH BAG WOODLAND</td>\n",
       "      <td>ROUND SNACK BOXES SET OF4 WOODLAND</td>\n",
       "      <td>ROUND SNACK BOXES SET OF 4 FRUITS</td>\n",
       "      <td>STRAWBERRY LUNCH BOX WITH CUTLERY</td>\n",
       "      <td>RECIPE BOX BLUE SKETCHBOOK DESIGN</td>\n",
       "      <td>RECIPE BOX RETROSPOT</td>\n",
       "      <td>9</td>\n",
       "      <td>8</td>\n",
       "    </tr>\n",
       "  </tbody>\n",
       "</table>\n",
       "<p>5 rows × 46 columns</p>\n",
       "</div>"
      ],
      "text/plain": [
       "      transaction_ID       Date   Time                          item_0  \\\n",
       "19246         564166 2011-08-23  13:40  NATURAL SLATE HEART CHALKBOARD   \n",
       "5135          543751 2011-11-02  14:00      WOODEN ROUNDERS GARDEN SET   \n",
       "15906         559340 2011-07-07  16:51  METAL SIGN TAKE IT OR LEAVE IT   \n",
       "10141         550943 2011-04-21  15:51                             NaN   \n",
       "9075          549316 2011-08-04  09:54      JUMBO BAG WOODLAND ANIMALS   \n",
       "\n",
       "                              item_1                          item_2  \\\n",
       "19246  CHILDRENS APRON APPLES DESIGN             WRAP  VINTAGE DOILY   \n",
       "5135     WHITE BAMBOO RIBS LAMPSHADE                             NaN   \n",
       "15906          METAL SIGN EMPIRE TEA  HAND OVER THE CHOCOLATE   SIGN   \n",
       "10141                            NaN                             NaN   \n",
       "9075          JUMBO STORAGE BAG SUKI         JUMBO BAG RED RETROSPOT   \n",
       "\n",
       "                                item_3                             item_4  \\\n",
       "19246         WRAP VINTAGE LEAF DESIGN               WRAP POPPIES  DESIGN   \n",
       "5135                               NaN                                NaN   \n",
       "15906  METAL SIGN HER DINNER IS SERVED  DOORMAT UNION JACK GUNS AND ROSES   \n",
       "10141                              NaN                                NaN   \n",
       "9075   PACK OF 72 RETROSPOT CAKE CASES           RED RETROSPOT MINI CASES   \n",
       "\n",
       "                                   item_5                         item_6  ...  \\\n",
       "19246                   WRAP GINGHAM ROSE              WRAP ENGLISH ROSE  ...   \n",
       "5135                                  NaN                            NaN  ...   \n",
       "15906  DOORMAT FANCY FONT HOME SWEET HOME  DOORMAT KEEP CALM AND COME IN  ...   \n",
       "10141                                 NaN                            NaN  ...   \n",
       "9075        WASH BAG VINTAGE ROSE PAISLEY      ASSORTED COLOURS SILK FAN  ...   \n",
       "\n",
       "                        item_33                 item_34             item_35  \\\n",
       "19246                       NaN                     NaN                 NaN   \n",
       "5135                        NaN                     NaN                 NaN   \n",
       "15906                       NaN                     NaN                 NaN   \n",
       "10141                       NaN                     NaN                 NaN   \n",
       "9075   RED RETROSPOT OVEN GLOVE  WOODLAND CHARLOTTE BAG  LUNCH BAG WOODLAND   \n",
       "\n",
       "                                  item_36                            item_37  \\\n",
       "19246                                 NaN                                NaN   \n",
       "5135                                  NaN                                NaN   \n",
       "15906                                 NaN                                NaN   \n",
       "10141                                 NaN                                NaN   \n",
       "9075   ROUND SNACK BOXES SET OF4 WOODLAND  ROUND SNACK BOXES SET OF 4 FRUITS   \n",
       "\n",
       "                                 item_38                            item_39  \\\n",
       "19246                                NaN                                NaN   \n",
       "5135                                 NaN                                NaN   \n",
       "15906                                NaN                                NaN   \n",
       "10141                                NaN                                NaN   \n",
       "9075   STRAWBERRY LUNCH BOX WITH CUTLERY  RECIPE BOX BLUE SKETCHBOOK DESIGN   \n",
       "\n",
       "                    item_40 Hour Month  \n",
       "19246                   NaN   13     8  \n",
       "5135                    NaN   14    11  \n",
       "15906                   NaN   16     7  \n",
       "10141                   NaN   15     4  \n",
       "9075   RECIPE BOX RETROSPOT    9     8  \n",
       "\n",
       "[5 rows x 46 columns]"
      ]
     },
     "execution_count": 41,
     "metadata": {},
     "output_type": "execute_result"
    }
   ],
   "source": [
    "data['Month'] =data['Date'].dt.month\n",
    "data.head()"
   ]
  },
  {
   "cell_type": "code",
   "execution_count": 42,
   "id": "ba86e659",
   "metadata": {},
   "outputs": [
    {
     "data": {
      "text/plain": [
       "11    2864\n",
       "10    2249\n",
       "9     2079\n",
       "6     1979\n",
       "7     1946\n",
       "5     1850\n",
       "8     1832\n",
       "3     1762\n",
       "1     1645\n",
       "4     1591\n",
       "2     1444\n",
       "12    1305\n",
       "Name: Month, dtype: int64"
      ]
     },
     "execution_count": 42,
     "metadata": {},
     "output_type": "execute_result"
    }
   ],
   "source": [
    "data['Month'].value_counts()"
   ]
  },
  {
   "cell_type": "markdown",
   "id": "b0577e2b",
   "metadata": {},
   "source": [
    "November has the highest transaction (2864), with October and September in second and third place consecutively. However, December has the least number of transactions (1305)"
   ]
  },
  {
   "cell_type": "code",
   "execution_count": 43,
   "id": "3e1ad160",
   "metadata": {},
   "outputs": [
    {
     "data": {
      "text/plain": [
       "(22546, 46)"
      ]
     },
     "execution_count": 43,
     "metadata": {},
     "output_type": "execute_result"
    }
   ],
   "source": [
    "data.shape"
   ]
  },
  {
   "cell_type": "markdown",
   "id": "be2050b5",
   "metadata": {},
   "source": [
    "#### I will make Comparism between the highest month (November) and the first month of the year (January) while generating the association rules and making discussions wheter the rule changes across these to months\n",
    "\n",
    "Extracting data for transactions made in November only"
   ]
  },
  {
   "cell_type": "code",
   "execution_count": 44,
   "id": "97f87419",
   "metadata": {},
   "outputs": [],
   "source": [
    "Filtered_data = data[data['Date'].dt.month == 11]"
   ]
  },
  {
   "cell_type": "code",
   "execution_count": 45,
   "id": "98a2e8af",
   "metadata": {},
   "outputs": [
    {
     "data": {
      "text/html": [
       "<div>\n",
       "<style scoped>\n",
       "    .dataframe tbody tr th:only-of-type {\n",
       "        vertical-align: middle;\n",
       "    }\n",
       "\n",
       "    .dataframe tbody tr th {\n",
       "        vertical-align: top;\n",
       "    }\n",
       "\n",
       "    .dataframe thead th {\n",
       "        text-align: right;\n",
       "    }\n",
       "</style>\n",
       "<table border=\"1\" class=\"dataframe\">\n",
       "  <thead>\n",
       "    <tr style=\"text-align: right;\">\n",
       "      <th></th>\n",
       "      <th>transaction_ID</th>\n",
       "      <th>Date</th>\n",
       "      <th>Time</th>\n",
       "      <th>item_0</th>\n",
       "      <th>item_1</th>\n",
       "      <th>item_2</th>\n",
       "      <th>item_3</th>\n",
       "      <th>item_4</th>\n",
       "      <th>item_5</th>\n",
       "      <th>item_6</th>\n",
       "      <th>...</th>\n",
       "      <th>item_33</th>\n",
       "      <th>item_34</th>\n",
       "      <th>item_35</th>\n",
       "      <th>item_36</th>\n",
       "      <th>item_37</th>\n",
       "      <th>item_38</th>\n",
       "      <th>item_39</th>\n",
       "      <th>item_40</th>\n",
       "      <th>Hour</th>\n",
       "      <th>Month</th>\n",
       "    </tr>\n",
       "  </thead>\n",
       "  <tbody>\n",
       "    <tr>\n",
       "      <th>5135</th>\n",
       "      <td>543751</td>\n",
       "      <td>2011-11-02</td>\n",
       "      <td>14:00</td>\n",
       "      <td>WOODEN ROUNDERS GARDEN SET</td>\n",
       "      <td>WHITE BAMBOO RIBS LAMPSHADE</td>\n",
       "      <td>NaN</td>\n",
       "      <td>NaN</td>\n",
       "      <td>NaN</td>\n",
       "      <td>NaN</td>\n",
       "      <td>NaN</td>\n",
       "      <td>...</td>\n",
       "      <td>NaN</td>\n",
       "      <td>NaN</td>\n",
       "      <td>NaN</td>\n",
       "      <td>NaN</td>\n",
       "      <td>NaN</td>\n",
       "      <td>NaN</td>\n",
       "      <td>NaN</td>\n",
       "      <td>NaN</td>\n",
       "      <td>14</td>\n",
       "      <td>11</td>\n",
       "    </tr>\n",
       "    <tr>\n",
       "      <th>5150</th>\n",
       "      <td>C543766</td>\n",
       "      <td>2011-11-02</td>\n",
       "      <td>15:18</td>\n",
       "      <td>CHRISTMAS LIGHTS 10 VINTAGE BAUBLES</td>\n",
       "      <td>NaN</td>\n",
       "      <td>NaN</td>\n",
       "      <td>NaN</td>\n",
       "      <td>NaN</td>\n",
       "      <td>NaN</td>\n",
       "      <td>NaN</td>\n",
       "      <td>...</td>\n",
       "      <td>NaN</td>\n",
       "      <td>NaN</td>\n",
       "      <td>NaN</td>\n",
       "      <td>NaN</td>\n",
       "      <td>NaN</td>\n",
       "      <td>NaN</td>\n",
       "      <td>NaN</td>\n",
       "      <td>NaN</td>\n",
       "      <td>15</td>\n",
       "      <td>11</td>\n",
       "    </tr>\n",
       "    <tr>\n",
       "      <th>6975</th>\n",
       "      <td>546402</td>\n",
       "      <td>2011-11-03</td>\n",
       "      <td>15:22</td>\n",
       "      <td>DOORMAT UNION FLAG</td>\n",
       "      <td>DOORMAT FANCY FONT HOME SWEET HOME</td>\n",
       "      <td>DOORMAT SPOTTY HOME SWEET HOME</td>\n",
       "      <td>POLKADOT PEN</td>\n",
       "      <td>WHITE JEWELLED HEART DECORATION</td>\n",
       "      <td>NaN</td>\n",
       "      <td>NaN</td>\n",
       "      <td>...</td>\n",
       "      <td>NaN</td>\n",
       "      <td>NaN</td>\n",
       "      <td>NaN</td>\n",
       "      <td>NaN</td>\n",
       "      <td>NaN</td>\n",
       "      <td>NaN</td>\n",
       "      <td>NaN</td>\n",
       "      <td>NaN</td>\n",
       "      <td>15</td>\n",
       "      <td>11</td>\n",
       "    </tr>\n",
       "    <tr>\n",
       "      <th>30476</th>\n",
       "      <td>579694</td>\n",
       "      <td>2011-11-30</td>\n",
       "      <td>14:11</td>\n",
       "      <td>CHARLIE + LOLA RED HOT WATER BOTTLE</td>\n",
       "      <td>SET OF 20 KIDS COOKIE CUTTERS</td>\n",
       "      <td>SUNSET CHECK HAMMOCK</td>\n",
       "      <td>HANGING HEART ZINC T-LIGHT HOLDER</td>\n",
       "      <td>SET OF 72 PINK HEART PAPER DOILIES</td>\n",
       "      <td>15CM CHRISTMAS GLASS BALL 20 LIGHTS</td>\n",
       "      <td>TRADITIONAL CHRISTMAS RIBBONS</td>\n",
       "      <td>...</td>\n",
       "      <td>NaN</td>\n",
       "      <td>NaN</td>\n",
       "      <td>NaN</td>\n",
       "      <td>NaN</td>\n",
       "      <td>NaN</td>\n",
       "      <td>NaN</td>\n",
       "      <td>NaN</td>\n",
       "      <td>NaN</td>\n",
       "      <td>14</td>\n",
       "      <td>11</td>\n",
       "    </tr>\n",
       "    <tr>\n",
       "      <th>9263</th>\n",
       "      <td>549588</td>\n",
       "      <td>2011-11-04</td>\n",
       "      <td>10:04</td>\n",
       "      <td>HOMEMADE JAM SCENTED CANDLES</td>\n",
       "      <td>SET OF 4 JAM JAR MAGNETS</td>\n",
       "      <td>TUMBLER, NEW ENGLAND</td>\n",
       "      <td>PINK KNITTED EGG COSY</td>\n",
       "      <td>BLUE KNITTED EGG COSY</td>\n",
       "      <td>ENVELOPE 50 BLOSSOM IMAGES</td>\n",
       "      <td>TEA TIME TEA SET IN GIFT BOX</td>\n",
       "      <td>...</td>\n",
       "      <td>NaN</td>\n",
       "      <td>NaN</td>\n",
       "      <td>NaN</td>\n",
       "      <td>NaN</td>\n",
       "      <td>NaN</td>\n",
       "      <td>NaN</td>\n",
       "      <td>NaN</td>\n",
       "      <td>NaN</td>\n",
       "      <td>10</td>\n",
       "      <td>11</td>\n",
       "    </tr>\n",
       "  </tbody>\n",
       "</table>\n",
       "<p>5 rows × 46 columns</p>\n",
       "</div>"
      ],
      "text/plain": [
       "      transaction_ID       Date   Time                               item_0  \\\n",
       "5135          543751 2011-11-02  14:00           WOODEN ROUNDERS GARDEN SET   \n",
       "5150         C543766 2011-11-02  15:18  CHRISTMAS LIGHTS 10 VINTAGE BAUBLES   \n",
       "6975          546402 2011-11-03  15:22                   DOORMAT UNION FLAG   \n",
       "30476         579694 2011-11-30  14:11  CHARLIE + LOLA RED HOT WATER BOTTLE   \n",
       "9263          549588 2011-11-04  10:04         HOMEMADE JAM SCENTED CANDLES   \n",
       "\n",
       "                                   item_1                          item_2  \\\n",
       "5135          WHITE BAMBOO RIBS LAMPSHADE                             NaN   \n",
       "5150                                  NaN                             NaN   \n",
       "6975   DOORMAT FANCY FONT HOME SWEET HOME  DOORMAT SPOTTY HOME SWEET HOME   \n",
       "30476       SET OF 20 KIDS COOKIE CUTTERS            SUNSET CHECK HAMMOCK   \n",
       "9263             SET OF 4 JAM JAR MAGNETS            TUMBLER, NEW ENGLAND   \n",
       "\n",
       "                                  item_3                              item_4  \\\n",
       "5135                                 NaN                                 NaN   \n",
       "5150                                 NaN                                 NaN   \n",
       "6975                        POLKADOT PEN     WHITE JEWELLED HEART DECORATION   \n",
       "30476  HANGING HEART ZINC T-LIGHT HOLDER  SET OF 72 PINK HEART PAPER DOILIES   \n",
       "9263               PINK KNITTED EGG COSY               BLUE KNITTED EGG COSY   \n",
       "\n",
       "                                    item_5                         item_6  \\\n",
       "5135                                   NaN                            NaN   \n",
       "5150                                   NaN                            NaN   \n",
       "6975                                   NaN                            NaN   \n",
       "30476  15CM CHRISTMAS GLASS BALL 20 LIGHTS  TRADITIONAL CHRISTMAS RIBBONS   \n",
       "9263            ENVELOPE 50 BLOSSOM IMAGES   TEA TIME TEA SET IN GIFT BOX   \n",
       "\n",
       "       ... item_33 item_34 item_35 item_36 item_37 item_38 item_39 item_40  \\\n",
       "5135   ...     NaN     NaN     NaN     NaN     NaN     NaN     NaN     NaN   \n",
       "5150   ...     NaN     NaN     NaN     NaN     NaN     NaN     NaN     NaN   \n",
       "6975   ...     NaN     NaN     NaN     NaN     NaN     NaN     NaN     NaN   \n",
       "30476  ...     NaN     NaN     NaN     NaN     NaN     NaN     NaN     NaN   \n",
       "9263   ...     NaN     NaN     NaN     NaN     NaN     NaN     NaN     NaN   \n",
       "\n",
       "      Hour Month  \n",
       "5135    14    11  \n",
       "5150    15    11  \n",
       "6975    15    11  \n",
       "30476   14    11  \n",
       "9263    10    11  \n",
       "\n",
       "[5 rows x 46 columns]"
      ]
     },
     "execution_count": 45,
     "metadata": {},
     "output_type": "execute_result"
    }
   ],
   "source": [
    "Filtered_data.head()"
   ]
  },
  {
   "cell_type": "markdown",
   "id": "621350f5",
   "metadata": {},
   "source": [
    "## Data Preparation for Apriori Algorithm\n",
    "\n",
    "November transactions will be represented by items_dfnov"
   ]
  },
  {
   "cell_type": "code",
   "execution_count": 46,
   "id": "12293052",
   "metadata": {},
   "outputs": [],
   "source": [
    "items_dfnov=Filtered_data[Filtered_data.columns[3:44]]"
   ]
  },
  {
   "cell_type": "code",
   "execution_count": 47,
   "id": "2070cbca",
   "metadata": {},
   "outputs": [
    {
     "data": {
      "text/html": [
       "<div>\n",
       "<style scoped>\n",
       "    .dataframe tbody tr th:only-of-type {\n",
       "        vertical-align: middle;\n",
       "    }\n",
       "\n",
       "    .dataframe tbody tr th {\n",
       "        vertical-align: top;\n",
       "    }\n",
       "\n",
       "    .dataframe thead th {\n",
       "        text-align: right;\n",
       "    }\n",
       "</style>\n",
       "<table border=\"1\" class=\"dataframe\">\n",
       "  <thead>\n",
       "    <tr style=\"text-align: right;\">\n",
       "      <th></th>\n",
       "      <th>item_0</th>\n",
       "      <th>item_1</th>\n",
       "      <th>item_2</th>\n",
       "      <th>item_3</th>\n",
       "      <th>item_4</th>\n",
       "      <th>item_5</th>\n",
       "      <th>item_6</th>\n",
       "      <th>item_7</th>\n",
       "      <th>item_8</th>\n",
       "      <th>item_9</th>\n",
       "      <th>...</th>\n",
       "      <th>item_31</th>\n",
       "      <th>item_32</th>\n",
       "      <th>item_33</th>\n",
       "      <th>item_34</th>\n",
       "      <th>item_35</th>\n",
       "      <th>item_36</th>\n",
       "      <th>item_37</th>\n",
       "      <th>item_38</th>\n",
       "      <th>item_39</th>\n",
       "      <th>item_40</th>\n",
       "    </tr>\n",
       "  </thead>\n",
       "  <tbody>\n",
       "    <tr>\n",
       "      <th>5135</th>\n",
       "      <td>WOODEN ROUNDERS GARDEN SET</td>\n",
       "      <td>WHITE BAMBOO RIBS LAMPSHADE</td>\n",
       "      <td>NaN</td>\n",
       "      <td>NaN</td>\n",
       "      <td>NaN</td>\n",
       "      <td>NaN</td>\n",
       "      <td>NaN</td>\n",
       "      <td>NaN</td>\n",
       "      <td>NaN</td>\n",
       "      <td>NaN</td>\n",
       "      <td>...</td>\n",
       "      <td>NaN</td>\n",
       "      <td>NaN</td>\n",
       "      <td>NaN</td>\n",
       "      <td>NaN</td>\n",
       "      <td>NaN</td>\n",
       "      <td>NaN</td>\n",
       "      <td>NaN</td>\n",
       "      <td>NaN</td>\n",
       "      <td>NaN</td>\n",
       "      <td>NaN</td>\n",
       "    </tr>\n",
       "    <tr>\n",
       "      <th>5150</th>\n",
       "      <td>CHRISTMAS LIGHTS 10 VINTAGE BAUBLES</td>\n",
       "      <td>NaN</td>\n",
       "      <td>NaN</td>\n",
       "      <td>NaN</td>\n",
       "      <td>NaN</td>\n",
       "      <td>NaN</td>\n",
       "      <td>NaN</td>\n",
       "      <td>NaN</td>\n",
       "      <td>NaN</td>\n",
       "      <td>NaN</td>\n",
       "      <td>...</td>\n",
       "      <td>NaN</td>\n",
       "      <td>NaN</td>\n",
       "      <td>NaN</td>\n",
       "      <td>NaN</td>\n",
       "      <td>NaN</td>\n",
       "      <td>NaN</td>\n",
       "      <td>NaN</td>\n",
       "      <td>NaN</td>\n",
       "      <td>NaN</td>\n",
       "      <td>NaN</td>\n",
       "    </tr>\n",
       "    <tr>\n",
       "      <th>6975</th>\n",
       "      <td>DOORMAT UNION FLAG</td>\n",
       "      <td>DOORMAT FANCY FONT HOME SWEET HOME</td>\n",
       "      <td>DOORMAT SPOTTY HOME SWEET HOME</td>\n",
       "      <td>POLKADOT PEN</td>\n",
       "      <td>WHITE JEWELLED HEART DECORATION</td>\n",
       "      <td>NaN</td>\n",
       "      <td>NaN</td>\n",
       "      <td>NaN</td>\n",
       "      <td>NaN</td>\n",
       "      <td>NaN</td>\n",
       "      <td>...</td>\n",
       "      <td>NaN</td>\n",
       "      <td>NaN</td>\n",
       "      <td>NaN</td>\n",
       "      <td>NaN</td>\n",
       "      <td>NaN</td>\n",
       "      <td>NaN</td>\n",
       "      <td>NaN</td>\n",
       "      <td>NaN</td>\n",
       "      <td>NaN</td>\n",
       "      <td>NaN</td>\n",
       "    </tr>\n",
       "    <tr>\n",
       "      <th>30476</th>\n",
       "      <td>CHARLIE + LOLA RED HOT WATER BOTTLE</td>\n",
       "      <td>SET OF 20 KIDS COOKIE CUTTERS</td>\n",
       "      <td>SUNSET CHECK HAMMOCK</td>\n",
       "      <td>HANGING HEART ZINC T-LIGHT HOLDER</td>\n",
       "      <td>SET OF 72 PINK HEART PAPER DOILIES</td>\n",
       "      <td>15CM CHRISTMAS GLASS BALL 20 LIGHTS</td>\n",
       "      <td>TRADITIONAL CHRISTMAS RIBBONS</td>\n",
       "      <td>SCANDINAVIAN REDS RIBBONS</td>\n",
       "      <td>JUMBO BAG RED RETROSPOT</td>\n",
       "      <td>JUMBO  BAG BAROQUE BLACK WHITE</td>\n",
       "      <td>...</td>\n",
       "      <td>NaN</td>\n",
       "      <td>NaN</td>\n",
       "      <td>NaN</td>\n",
       "      <td>NaN</td>\n",
       "      <td>NaN</td>\n",
       "      <td>NaN</td>\n",
       "      <td>NaN</td>\n",
       "      <td>NaN</td>\n",
       "      <td>NaN</td>\n",
       "      <td>NaN</td>\n",
       "    </tr>\n",
       "    <tr>\n",
       "      <th>9263</th>\n",
       "      <td>HOMEMADE JAM SCENTED CANDLES</td>\n",
       "      <td>SET OF 4 JAM JAR MAGNETS</td>\n",
       "      <td>TUMBLER, NEW ENGLAND</td>\n",
       "      <td>PINK KNITTED EGG COSY</td>\n",
       "      <td>BLUE KNITTED EGG COSY</td>\n",
       "      <td>ENVELOPE 50 BLOSSOM IMAGES</td>\n",
       "      <td>TEA TIME TEA SET IN GIFT BOX</td>\n",
       "      <td>SET/6 FRUIT SALAD  PAPER PLATES</td>\n",
       "      <td>SET/6 FRUIT SALAD PAPER CUPS</td>\n",
       "      <td>LARGE PINK GLASS SUNDAE DISH</td>\n",
       "      <td>...</td>\n",
       "      <td>NaN</td>\n",
       "      <td>NaN</td>\n",
       "      <td>NaN</td>\n",
       "      <td>NaN</td>\n",
       "      <td>NaN</td>\n",
       "      <td>NaN</td>\n",
       "      <td>NaN</td>\n",
       "      <td>NaN</td>\n",
       "      <td>NaN</td>\n",
       "      <td>NaN</td>\n",
       "    </tr>\n",
       "  </tbody>\n",
       "</table>\n",
       "<p>5 rows × 41 columns</p>\n",
       "</div>"
      ],
      "text/plain": [
       "                                    item_0  \\\n",
       "5135            WOODEN ROUNDERS GARDEN SET   \n",
       "5150   CHRISTMAS LIGHTS 10 VINTAGE BAUBLES   \n",
       "6975                    DOORMAT UNION FLAG   \n",
       "30476  CHARLIE + LOLA RED HOT WATER BOTTLE   \n",
       "9263          HOMEMADE JAM SCENTED CANDLES   \n",
       "\n",
       "                                   item_1                          item_2  \\\n",
       "5135          WHITE BAMBOO RIBS LAMPSHADE                             NaN   \n",
       "5150                                  NaN                             NaN   \n",
       "6975   DOORMAT FANCY FONT HOME SWEET HOME  DOORMAT SPOTTY HOME SWEET HOME   \n",
       "30476       SET OF 20 KIDS COOKIE CUTTERS            SUNSET CHECK HAMMOCK   \n",
       "9263             SET OF 4 JAM JAR MAGNETS            TUMBLER, NEW ENGLAND   \n",
       "\n",
       "                                  item_3                              item_4  \\\n",
       "5135                                 NaN                                 NaN   \n",
       "5150                                 NaN                                 NaN   \n",
       "6975                        POLKADOT PEN     WHITE JEWELLED HEART DECORATION   \n",
       "30476  HANGING HEART ZINC T-LIGHT HOLDER  SET OF 72 PINK HEART PAPER DOILIES   \n",
       "9263               PINK KNITTED EGG COSY               BLUE KNITTED EGG COSY   \n",
       "\n",
       "                                    item_5                         item_6  \\\n",
       "5135                                   NaN                            NaN   \n",
       "5150                                   NaN                            NaN   \n",
       "6975                                   NaN                            NaN   \n",
       "30476  15CM CHRISTMAS GLASS BALL 20 LIGHTS  TRADITIONAL CHRISTMAS RIBBONS   \n",
       "9263            ENVELOPE 50 BLOSSOM IMAGES   TEA TIME TEA SET IN GIFT BOX   \n",
       "\n",
       "                                item_7                        item_8  \\\n",
       "5135                               NaN                           NaN   \n",
       "5150                               NaN                           NaN   \n",
       "6975                               NaN                           NaN   \n",
       "30476        SCANDINAVIAN REDS RIBBONS       JUMBO BAG RED RETROSPOT   \n",
       "9263   SET/6 FRUIT SALAD  PAPER PLATES  SET/6 FRUIT SALAD PAPER CUPS   \n",
       "\n",
       "                               item_9  ... item_31 item_32 item_33 item_34  \\\n",
       "5135                              NaN  ...     NaN     NaN     NaN     NaN   \n",
       "5150                              NaN  ...     NaN     NaN     NaN     NaN   \n",
       "6975                              NaN  ...     NaN     NaN     NaN     NaN   \n",
       "30476  JUMBO  BAG BAROQUE BLACK WHITE  ...     NaN     NaN     NaN     NaN   \n",
       "9263     LARGE PINK GLASS SUNDAE DISH  ...     NaN     NaN     NaN     NaN   \n",
       "\n",
       "      item_35 item_36 item_37 item_38 item_39 item_40  \n",
       "5135      NaN     NaN     NaN     NaN     NaN     NaN  \n",
       "5150      NaN     NaN     NaN     NaN     NaN     NaN  \n",
       "6975      NaN     NaN     NaN     NaN     NaN     NaN  \n",
       "30476     NaN     NaN     NaN     NaN     NaN     NaN  \n",
       "9263      NaN     NaN     NaN     NaN     NaN     NaN  \n",
       "\n",
       "[5 rows x 41 columns]"
      ]
     },
     "execution_count": 47,
     "metadata": {},
     "output_type": "execute_result"
    }
   ],
   "source": [
    "items_dfnov.head()"
   ]
  },
  {
   "cell_type": "markdown",
   "id": "7dce88e1",
   "metadata": {},
   "source": [
    "Then we assign each november transaction to a list and finally we will have a list of lists for november transactions. To do that, we first take the Transpose of the dataframe, using .T and then drop the 'nan' values using the dropna()\n",
    "function."
   ]
  },
  {
   "cell_type": "code",
   "execution_count": 48,
   "id": "565e976b",
   "metadata": {},
   "outputs": [],
   "source": [
    "basketsnov = items_dfnov.T.apply(lambda x: x.dropna().tolist()).tolist()"
   ]
  },
  {
   "cell_type": "code",
   "execution_count": 50,
   "id": "860507cf",
   "metadata": {},
   "outputs": [
    {
     "name": "stdout",
     "output_type": "stream",
     "text": [
      "2864\n"
     ]
    }
   ],
   "source": [
    "print(len(basketsnov))"
   ]
  },
  {
   "cell_type": "markdown",
   "id": "6d18f09f",
   "metadata": {},
   "source": [
    "There are 2864 transactions in November, still a confirmation of Out[42]"
   ]
  },
  {
   "cell_type": "code",
   "execution_count": 51,
   "id": "6d06f0a7",
   "metadata": {},
   "outputs": [
    {
     "name": "stdout",
     "output_type": "stream",
     "text": [
      "['WOODEN ROUNDERS GARDEN SET', 'WHITE BAMBOO RIBS LAMPSHADE']\n",
      "['CHRISTMAS LIGHTS 10 VINTAGE BAUBLES']\n",
      "['DOORMAT UNION FLAG', 'DOORMAT FANCY FONT HOME SWEET HOME', 'DOORMAT SPOTTY HOME SWEET HOME', 'POLKADOT PEN', 'WHITE JEWELLED HEART DECORATION']\n",
      "['CHARLIE + LOLA RED HOT WATER BOTTLE', 'SET OF 20 KIDS COOKIE CUTTERS', 'SUNSET CHECK HAMMOCK', 'HANGING HEART ZINC T-LIGHT HOLDER', 'SET OF 72 PINK HEART PAPER DOILIES', '15CM CHRISTMAS GLASS BALL 20 LIGHTS', 'TRADITIONAL CHRISTMAS RIBBONS', 'SCANDINAVIAN REDS RIBBONS', 'JUMBO BAG RED RETROSPOT', 'JUMBO  BAG BAROQUE BLACK WHITE', 'RED ENCHANTED FOREST PLACEMAT', 'WHITE HANGING HEART T-LIGHT HOLDER', 'DOTCOM POSTAGE']\n",
      "['HOMEMADE JAM SCENTED CANDLES', 'SET OF 4 JAM JAR MAGNETS', 'TUMBLER, NEW ENGLAND', 'PINK KNITTED EGG COSY', 'BLUE KNITTED EGG COSY', 'ENVELOPE 50 BLOSSOM IMAGES', 'TEA TIME TEA SET IN GIFT BOX', 'SET/6 FRUIT SALAD  PAPER PLATES', 'SET/6 FRUIT SALAD PAPER CUPS', 'LARGE PINK GLASS SUNDAE DISH', 'PINK FAIRY CAKE CHILDRENS APRON', 'CHERRY BLOSSOM DECORATIVE FLASK', 'CHERRY BLOSSOM  DECORATIVE FLASK', 'TEA PARTY BIRTHDAY CARD', 'PENNY FARTHING BIRTHDAY CARD', 'CARD DOLLY GIRL', 'CARD PARTY GAMES', 'STARS GIFT TAPE', 'PAPER BUNTING VINTAGE PAISLEY', 'PINK PARTY BAGS', 'POSTAGE']\n"
     ]
    }
   ],
   "source": [
    "for i in basketsnov[:5]:\n",
    " print(i)"
   ]
  },
  {
   "cell_type": "code",
   "execution_count": 52,
   "id": "e2406013",
   "metadata": {},
   "outputs": [],
   "source": [
    "from apyori import apriori"
   ]
  },
  {
   "cell_type": "markdown",
   "id": "535d6e46",
   "metadata": {},
   "source": [
    "We will use a baseline parameter of \n",
    "- Minimum Support = 0.01\n",
    "- Minimum Confidence = 0.2\n",
    "- Minimum Lift = 3\n",
    "- Minimum Length = 2"
   ]
  },
  {
   "cell_type": "code",
   "execution_count": 53,
   "id": "fa478a75",
   "metadata": {},
   "outputs": [],
   "source": [
    "association_rulesnov = apriori(basketsnov, min_support=0.01, min_confidence=0.2, \n",
    "                            min_lift=3, min_length=2)\n",
    "association_resultsnov = list(association_rulesnov)"
   ]
  },
  {
   "cell_type": "code",
   "execution_count": 54,
   "id": "0969ba27",
   "metadata": {},
   "outputs": [
    {
     "name": "stdout",
     "output_type": "stream",
     "text": [
      "Rules generated:  194\n"
     ]
    }
   ],
   "source": [
    "print('Rules generated: ', len(association_resultsnov))"
   ]
  },
  {
   "cell_type": "code",
   "execution_count": 55,
   "id": "c7c3858e",
   "metadata": {},
   "outputs": [
    {
     "name": "stdout",
     "output_type": "stream",
     "text": [
      "RelationRecord(items=frozenset({\"PAPER CHAIN KIT 50'S CHRISTMAS\", '3 HEARTS HANGING DECORATION RUSTIC'}), support=0.010125698324022346, ordered_statistics=[OrderedStatistic(items_base=frozenset({'3 HEARTS HANGING DECORATION RUSTIC'}), items_add=frozenset({\"PAPER CHAIN KIT 50'S CHRISTMAS\"}), confidence=0.3918918918918919, lift=4.879905992949471)])\n"
     ]
    }
   ],
   "source": [
    "print(association_resultsnov[0])"
   ]
  },
  {
   "cell_type": "code",
   "execution_count": 56,
   "id": "8b5ac5ab",
   "metadata": {},
   "outputs": [
    {
     "name": "stdout",
     "output_type": "stream",
     "text": [
      "RelationRecord(items=frozenset({'LUNCH BAG SUKI DESIGN', 'LUNCH BAG RED RETROSPOT'}), support=0.0111731843575419, ordered_statistics=[OrderedStatistic(items_base=frozenset({'LUNCH BAG RED RETROSPOT'}), items_add=frozenset({'LUNCH BAG SUKI DESIGN'}), confidence=0.25396825396825395, lift=8.081834215167548), OrderedStatistic(items_base=frozenset({'LUNCH BAG SUKI DESIGN'}), items_add=frozenset({'LUNCH BAG RED RETROSPOT'}), confidence=0.35555555555555557, lift=8.081834215167548)])\n"
     ]
    }
   ],
   "source": [
    "print(association_resultsnov[120])"
   ]
  },
  {
   "cell_type": "code",
   "execution_count": 57,
   "id": "ecbfb047",
   "metadata": {},
   "outputs": [],
   "source": [
    "def display_rules(association_resultsnov):\n",
    " for item in association_resultsnov:\n",
    "     pair = item[0]\n",
    "     items = [x for x in pair]\n",
    "     print(\"Rule: \" + items[0] + \" -> \" + items[1])\n",
    "     print(\"Support: \" + str(item[1]))\n",
    "     print(\"Confidence: \" + str(item[2][0][2]))\n",
    "     print(\"Lift: \" + str(item[2][0][3]))\n",
    "     print(\"=====================================\")"
   ]
  },
  {
   "cell_type": "code",
   "execution_count": 58,
   "id": "0cb6a55c",
   "metadata": {},
   "outputs": [
    {
     "name": "stdout",
     "output_type": "stream",
     "text": [
      "Rule: PAPER CHAIN KIT 50'S CHRISTMAS -> 3 HEARTS HANGING DECORATION RUSTIC\n",
      "Support: 0.010125698324022346\n",
      "Confidence: 0.3918918918918919\n",
      "Lift: 4.879905992949471\n",
      "=====================================\n",
      "Rule: 6 GIFT TAGS VINTAGE CHRISTMAS -> 6 GIFT TAGS 50'S CHRISTMAS\n",
      "Support: 0.01047486033519553\n",
      "Confidence: 0.3896103896103896\n",
      "Lift: 18.29252714498616\n",
      "=====================================\n",
      "Rule: ROLL WRAP 50'S CHRISTMAS -> 6 GIFT TAGS 50'S CHRISTMAS\n",
      "Support: 0.015712290502793297\n",
      "Confidence: 0.5844155844155845\n",
      "Lift: 19.23869234214062\n",
      "=====================================\n",
      "Rule: ROLL WRAP 50'S RED CHRISTMAS -> 6 GIFT TAGS 50'S CHRISTMAS\n",
      "Support: 0.0111731843575419\n",
      "Confidence: 0.4155844155844156\n",
      "Lift: 22.041366041366043\n",
      "=====================================\n",
      "Rule: PAPER CHAIN KIT 50'S CHRISTMAS -> 6 RIBBONS ELEGANT CHRISTMAS\n",
      "Support: 0.010125698324022346\n",
      "Confidence: 0.6041666666666666\n",
      "Lift: 7.5231884057971\n",
      "=====================================\n",
      "Rule: PAPER CHAIN KIT 50'S CHRISTMAS -> 60 CAKE CASES VINTAGE CHRISTMAS\n",
      "Support: 0.010824022346368716\n",
      "Confidence: 0.28971962616822433\n",
      "Lift: 3.6076391710686715\n",
      "=====================================\n",
      "Rule: PAPER CHAIN KIT VINTAGE CHRISTMAS -> 60 CAKE CASES VINTAGE CHRISTMAS\n",
      "Support: 0.013966480446927373\n",
      "Confidence: 0.37383177570093457\n",
      "Lift: 6.907446487790171\n",
      "=====================================\n",
      "Rule: SET OF 20 VINTAGE CHRISTMAS NAPKINS -> 60 CAKE CASES VINTAGE CHRISTMAS\n",
      "Support: 0.010125698324022346\n",
      "Confidence: 0.27102803738317754\n",
      "Lift: 7.322870745900193\n",
      "=====================================\n",
      "Rule: 60 TEATIME FAIRY CAKE CASES -> PACK OF 60 PINK PAISLEY CAKE CASES\n",
      "Support: 0.010125698324022346\n",
      "Confidence: 0.38666666666666666\n",
      "Lift: 16.52855721393035\n",
      "=====================================\n",
      "Rule: ADVENT CALENDAR GINGHAM SACK -> WOODEN STAR CHRISTMAS SCANDINAVIAN\n",
      "Support: 0.010125698324022346\n",
      "Confidence: 0.48333333333333334\n",
      "Lift: 12.037101449275362\n",
      "=====================================\n"
     ]
    }
   ],
   "source": [
    "display_rules(association_resultsnov[:10])"
   ]
  },
  {
   "cell_type": "markdown",
   "id": "96a479b4",
   "metadata": {},
   "source": [
    "With minumum parameter of support and confidence as 1% and 20% respectively, 194 rules are generated within the parameter's threshold.\n",
    "It also shows the goods that are mostly bought together in November, also it shows that most of the products are Christmas items, confidence level is quite low as well with the highest been PAPER CHAIN KIT 50'S CHRISTMAS -> 6 RIBBONS ELEGANT CHRISTMAS at 60%"
   ]
  },
  {
   "cell_type": "markdown",
   "id": "e7bee604",
   "metadata": {},
   "source": [
    "#### Using different parameter to check the association rules changes\n",
    "\n",
    "Min Support = 0.02, Min Confidence = 0.2, Min Lift = 6"
   ]
  },
  {
   "cell_type": "code",
   "execution_count": 59,
   "id": "25af2c13",
   "metadata": {},
   "outputs": [],
   "source": [
    "association_rulesnov = apriori(basketsnov, min_support=0.02, min_confidence=0.2, \n",
    "                            min_lift=6, min_length=2)\n",
    "association_resultsnov = list(association_rulesnov)"
   ]
  },
  {
   "cell_type": "code",
   "execution_count": 60,
   "id": "ebc31b99",
   "metadata": {},
   "outputs": [
    {
     "name": "stdout",
     "output_type": "stream",
     "text": [
      "Rules generated:  11\n"
     ]
    }
   ],
   "source": [
    "print('Rules generated: ', len(association_resultsnov))"
   ]
  },
  {
   "cell_type": "code",
   "execution_count": 61,
   "id": "eb837145",
   "metadata": {},
   "outputs": [
    {
     "name": "stdout",
     "output_type": "stream",
     "text": [
      "RelationRecord(items=frozenset({'ALARM CLOCK BAKELIKE GREEN', 'ALARM CLOCK BAKELIKE RED'}), support=0.02164804469273743, ordered_statistics=[OrderedStatistic(items_base=frozenset({'ALARM CLOCK BAKELIKE GREEN'}), items_add=frozenset({'ALARM CLOCK BAKELIKE RED'}), confidence=0.6888888888888889, lift=18.970940170940167), OrderedStatistic(items_base=frozenset({'ALARM CLOCK BAKELIKE RED'}), items_add=frozenset({'ALARM CLOCK BAKELIKE GREEN'}), confidence=0.5961538461538461, lift=18.97094017094017)])\n"
     ]
    }
   ],
   "source": [
    "print(association_resultsnov[0])"
   ]
  },
  {
   "cell_type": "code",
   "execution_count": 62,
   "id": "bba86b65",
   "metadata": {},
   "outputs": [
    {
     "name": "stdout",
     "output_type": "stream",
     "text": [
      "RelationRecord(items=frozenset({'WOODEN HEART CHRISTMAS SCANDINAVIAN', 'WOODEN TREE CHRISTMAS SCANDINAVIAN'}), support=0.02164804469273743, ordered_statistics=[OrderedStatistic(items_base=frozenset({'WOODEN HEART CHRISTMAS SCANDINAVIAN'}), items_add=frozenset({'WOODEN TREE CHRISTMAS SCANDINAVIAN'}), confidence=0.5040650406504066, lift=20.33298980877133), OrderedStatistic(items_base=frozenset({'WOODEN TREE CHRISTMAS SCANDINAVIAN'}), items_add=frozenset({'WOODEN HEART CHRISTMAS SCANDINAVIAN'}), confidence=0.8732394366197183, lift=20.332989808771327)])\n"
     ]
    }
   ],
   "source": [
    "print(association_resultsnov[10])"
   ]
  },
  {
   "cell_type": "code",
   "execution_count": 63,
   "id": "f3e34955",
   "metadata": {},
   "outputs": [],
   "source": [
    "def display_rules(association_resultsnov):\n",
    " for item in association_resultsnov:\n",
    "     pair = item[0]\n",
    "     items = [x for x in pair]\n",
    "     print(\"Rule: \" + items[0] + \" -> \" + items[1])\n",
    "     print(\"Support: \" + str(item[1]))\n",
    "     print(\"Confidence: \" + str(item[2][0][2]))\n",
    "     print(\"Lift: \" + str(item[2][0][3]))\n",
    "     print(\"=====================================\")"
   ]
  },
  {
   "cell_type": "code",
   "execution_count": 64,
   "id": "fafcd960",
   "metadata": {},
   "outputs": [
    {
     "name": "stdout",
     "output_type": "stream",
     "text": [
      "Rule: ALARM CLOCK BAKELIKE GREEN -> ALARM CLOCK BAKELIKE RED\n",
      "Support: 0.02164804469273743\n",
      "Confidence: 0.6888888888888889\n",
      "Lift: 18.970940170940167\n",
      "=====================================\n",
      "Rule: HOT WATER BOTTLE TEA AND SYMPATHY -> CHOCOLATE HOT WATER BOTTLE\n",
      "Support: 0.023044692737430168\n",
      "Confidence: 0.5739130434782608\n",
      "Lift: 13.697391304347825\n",
      "=====================================\n",
      "Rule: CHRISTMAS CRAFT LITTLE FRIENDS -> CHRISTMAS CRAFT WHITE FAIRY\n",
      "Support: 0.021298882681564244\n",
      "Confidence: 0.5083333333333333\n",
      "Lift: 15.008934707903778\n",
      "=====================================\n",
      "Rule: GARDENERS KNEELING PAD KEEP CALM -> GARDENERS KNEELING PAD CUP OF TEA\n",
      "Support: 0.02653631284916201\n",
      "Confidence: 0.6551724137931034\n",
      "Lift: 13.402955665024631\n",
      "=====================================\n",
      "Rule: GREEN REGENCY TEACUP AND SAUCER -> PINK REGENCY TEACUP AND SAUCER\n",
      "Support: 0.020251396648044692\n",
      "Confidence: 0.7341772151898734\n",
      "Lift: 29.615261187377428\n",
      "=====================================\n",
      "Rule: HAND WARMER SCOTTY DOG DESIGN -> HAND WARMER BIRD DESIGN\n",
      "Support: 0.021298882681564244\n",
      "Confidence: 0.6703296703296703\n",
      "Lift: 18.63906966819588\n",
      "=====================================\n",
      "Rule: LUNCH BAG  BLACK SKULL -> LUNCH BAG RED RETROSPOT\n",
      "Support: 0.020600558659217876\n",
      "Confidence: 0.5175438596491228\n",
      "Lift: 11.76385407964355\n",
      "=====================================\n",
      "Rule: PAPER CHAIN KIT 50'S CHRISTMAS -> PAPER CHAIN KIT VINTAGE CHRISTMAS\n",
      "Support: 0.028980446927374302\n",
      "Confidence: 0.3608695652173913\n",
      "Lift: 6.667938288920055\n",
      "=====================================\n",
      "Rule: RED HANGING HEART T-LIGHT HOLDER -> WHITE HANGING HEART T-LIGHT HOLDER\n",
      "Support: 0.020600558659217876\n",
      "Confidence: 0.6413043478260869\n",
      "Lift: 10.93271221532091\n",
      "=====================================\n",
      "Rule: WOODEN HEART CHRISTMAS SCANDINAVIAN -> WOODEN STAR CHRISTMAS SCANDINAVIAN\n",
      "Support: 0.03247206703910614\n",
      "Confidence: 0.7560975609756097\n",
      "Lift: 18.830116648992572\n",
      "=====================================\n"
     ]
    }
   ],
   "source": [
    "display_rules(association_resultsnov[:10])"
   ]
  },
  {
   "cell_type": "markdown",
   "id": "195a9198",
   "metadata": {},
   "source": [
    "Using a different parameter increasing minimum support from 1% to 2% leads to a massive drop in the rules. It goes from 194 to 11 association rules. Other rulesets that dont match the parameter's threshold has been discarded."
   ]
  },
  {
   "cell_type": "code",
   "execution_count": 67,
   "id": "ac30609b",
   "metadata": {},
   "outputs": [
    {
     "data": {
      "text/plain": [
       "[('RABBIT NIGHT LIGHT', 250),\n",
       " (\"PAPER CHAIN KIT 50'S CHRISTMAS\", 235),\n",
       " ('WHITE HANGING HEART T-LIGHT HOLDER', 173),\n",
       " ('HOT WATER BOTTLE KEEP CALM', 161),\n",
       " ('PAPER CHAIN KIT VINTAGE CHRISTMAS', 156),\n",
       " ('BAKING SET 9 PIECE RETROSPOT', 156),\n",
       " ('JUMBO BAG RED RETROSPOT', 148),\n",
       " ('REGENCY CAKESTAND 3 TIER', 147),\n",
       " ('JUMBO BAG PAISLEY PARK', 143),\n",
       " ('GARDENERS KNEELING PAD KEEP CALM', 143)]"
      ]
     },
     "execution_count": 67,
     "metadata": {},
     "output_type": "execute_result"
    }
   ],
   "source": [
    "from collections import Counter\n",
    "counter = Counter(basketsnov[0])\n",
    "for i in basketsnov[1:]:\n",
    "    if i != 'nan':\n",
    "        counter.update(i)\n",
    "del counter['nan']\n",
    "counter.most_common(10)"
   ]
  },
  {
   "cell_type": "markdown",
   "id": "517f7504",
   "metadata": {},
   "source": [
    "The list in Out[67] lists the top 10 most common items purchased in November and they are mostly christmas items."
   ]
  },
  {
   "cell_type": "markdown",
   "id": "7339cd23",
   "metadata": {},
   "source": [
    "#### Extracting for January\n",
    "\n",
    "Extracting data for transactions made in January only using Filtered_data2.head()"
   ]
  },
  {
   "cell_type": "code",
   "execution_count": 68,
   "id": "ca5ee0d4",
   "metadata": {},
   "outputs": [
    {
     "data": {
      "text/html": [
       "<div>\n",
       "<style scoped>\n",
       "    .dataframe tbody tr th:only-of-type {\n",
       "        vertical-align: middle;\n",
       "    }\n",
       "\n",
       "    .dataframe tbody tr th {\n",
       "        vertical-align: top;\n",
       "    }\n",
       "\n",
       "    .dataframe thead th {\n",
       "        text-align: right;\n",
       "    }\n",
       "</style>\n",
       "<table border=\"1\" class=\"dataframe\">\n",
       "  <thead>\n",
       "    <tr style=\"text-align: right;\">\n",
       "      <th></th>\n",
       "      <th>transaction_ID</th>\n",
       "      <th>Date</th>\n",
       "      <th>Time</th>\n",
       "      <th>item_0</th>\n",
       "      <th>item_1</th>\n",
       "      <th>item_2</th>\n",
       "      <th>item_3</th>\n",
       "      <th>item_4</th>\n",
       "      <th>item_5</th>\n",
       "      <th>item_6</th>\n",
       "      <th>...</th>\n",
       "      <th>item_33</th>\n",
       "      <th>item_34</th>\n",
       "      <th>item_35</th>\n",
       "      <th>item_36</th>\n",
       "      <th>item_37</th>\n",
       "      <th>item_38</th>\n",
       "      <th>item_39</th>\n",
       "      <th>item_40</th>\n",
       "      <th>Hour</th>\n",
       "      <th>Month</th>\n",
       "    </tr>\n",
       "  </thead>\n",
       "  <tbody>\n",
       "    <tr>\n",
       "      <th>4393</th>\n",
       "      <td>542633</td>\n",
       "      <td>2011-01-31</td>\n",
       "      <td>10:31</td>\n",
       "      <td>ZINC FOLKART SLEIGH BELLS</td>\n",
       "      <td>TEA TIME OVEN GLOVE</td>\n",
       "      <td>PARTY BUNTING</td>\n",
       "      <td>DOORMAT FRIENDSHIP</td>\n",
       "      <td>RED WOOLLY HOTTIE WHITE HEART</td>\n",
       "      <td>KNITTED UNION FLAG HOT WATER BOTTLE</td>\n",
       "      <td>ENGLISH ROSE HOT WATER BOTTLE</td>\n",
       "      <td>...</td>\n",
       "      <td>NaN</td>\n",
       "      <td>NaN</td>\n",
       "      <td>NaN</td>\n",
       "      <td>NaN</td>\n",
       "      <td>NaN</td>\n",
       "      <td>NaN</td>\n",
       "      <td>NaN</td>\n",
       "      <td>NaN</td>\n",
       "      <td>10</td>\n",
       "      <td>1</td>\n",
       "    </tr>\n",
       "    <tr>\n",
       "      <th>4051</th>\n",
       "      <td>542149</td>\n",
       "      <td>2011-01-26</td>\n",
       "      <td>10:17</td>\n",
       "      <td>PAPER CHAIN KIT EMPIRE</td>\n",
       "      <td>ENGLISH ROSE GARDEN SECATEURS</td>\n",
       "      <td>DINOSAURS  WRITING SET</td>\n",
       "      <td>DINOSAUR PARTY BAG + STICKER SET</td>\n",
       "      <td>FOUR HOOK  WHITE LOVEBIRDS</td>\n",
       "      <td>HEART IVORY TRELLIS LARGE</td>\n",
       "      <td>PACK OF 6 SANDCASTLE FLAGS ASSORTED</td>\n",
       "      <td>...</td>\n",
       "      <td>NaN</td>\n",
       "      <td>NaN</td>\n",
       "      <td>NaN</td>\n",
       "      <td>NaN</td>\n",
       "      <td>NaN</td>\n",
       "      <td>NaN</td>\n",
       "      <td>NaN</td>\n",
       "      <td>NaN</td>\n",
       "      <td>10</td>\n",
       "      <td>1</td>\n",
       "    </tr>\n",
       "    <tr>\n",
       "      <th>3722</th>\n",
       "      <td>541696</td>\n",
       "      <td>2011-01-20</td>\n",
       "      <td>18:08</td>\n",
       "      <td>BLUE EGG  SPOON</td>\n",
       "      <td>12 IVORY ROSE PEG PLACE SETTINGS</td>\n",
       "      <td>12 DAISY PEGS IN WOOD BOX</td>\n",
       "      <td>TOADSTOOL MONEY BOX</td>\n",
       "      <td>CHICK GREY HOT WATER BOTTLE</td>\n",
       "      <td>ROTATING LEAVES T-LIGHT HOLDER</td>\n",
       "      <td>SKULLS GREETING CARD</td>\n",
       "      <td>...</td>\n",
       "      <td>VINTAGE SEASIDE JIGSAW PUZZLES</td>\n",
       "      <td>SET 12 RETRO WHITE CHALK STICKS</td>\n",
       "      <td>JUMBO BAG PINK VINTAGE PAISLEY</td>\n",
       "      <td>JUMBO STORAGE BAG SUKI</td>\n",
       "      <td>SKULL SHOULDER BAG</td>\n",
       "      <td>SUKI  SHOULDER BAG</td>\n",
       "      <td>FRYING PAN PINK POLKADOT</td>\n",
       "      <td>FRYING PAN BLUE POLKADOT</td>\n",
       "      <td>18</td>\n",
       "      <td>1</td>\n",
       "    </tr>\n",
       "    <tr>\n",
       "      <th>3729</th>\n",
       "      <td>541696</td>\n",
       "      <td>2011-01-20</td>\n",
       "      <td>18:08</td>\n",
       "      <td>HANGING WOOD AND FELT FLOWER</td>\n",
       "      <td>SET/3 POLKADOT STACKING TINS</td>\n",
       "      <td>GREEN VINTAGE EARRINGS</td>\n",
       "      <td>SILVER M.O.P ORBIT DROP EARRINGS</td>\n",
       "      <td>TINY CRYSTAL BRACELET GREEN</td>\n",
       "      <td>CARNIVAL BRACELET</td>\n",
       "      <td>FRUIT SALAD BAG CHARM</td>\n",
       "      <td>...</td>\n",
       "      <td>LARGE PINK GLASS SUNDAE DISH</td>\n",
       "      <td>BLUE PATCH PURSE PINK HEART</td>\n",
       "      <td>DENIM PATCH PURSE PINK BUTTERFLY</td>\n",
       "      <td>PURPLE ENAMEL FLOWER HAIR TIE</td>\n",
       "      <td>WHITE ENAMEL FLOWER HAIR TIE</td>\n",
       "      <td>PINK ENAMEL FLOWER HAIR TIE</td>\n",
       "      <td>\"LETTER \"\"A\"\" BLING KEY RING\"</td>\n",
       "      <td>DOTCOM POSTAGE</td>\n",
       "      <td>18</td>\n",
       "      <td>1</td>\n",
       "    </tr>\n",
       "    <tr>\n",
       "      <th>17796</th>\n",
       "      <td>562024</td>\n",
       "      <td>2011-01-08</td>\n",
       "      <td>16:07</td>\n",
       "      <td>BROWN CHECK CAT DOORSTOP</td>\n",
       "      <td>PAINTED PINK RABBIT</td>\n",
       "      <td>STRAWBERRY RAFFIA FOOD COVER</td>\n",
       "      <td>FANCY FONT BIRTHDAY CARD</td>\n",
       "      <td>STRAWBERRY LUNCH BOX WITH CUTLERY</td>\n",
       "      <td>VINTAGE UNION JACK BUNTING</td>\n",
       "      <td>MOCK LOBSTER FRIDGE MAGNET</td>\n",
       "      <td>...</td>\n",
       "      <td>METAL 4 HOOK HANGER FRENCH CHATEAU</td>\n",
       "      <td>CAKE STAND VICTORIAN FILIGREE SMALL</td>\n",
       "      <td>HANGING HEART MIRROR DECORATION</td>\n",
       "      <td>EGG CUP NATURAL CHICKEN</td>\n",
       "      <td>HEART IVORY TRELLIS SMALL</td>\n",
       "      <td>200 RED + WHITE BENDY STRAWS</td>\n",
       "      <td>HOME GARLAND PAINTED ZINC</td>\n",
       "      <td>TEA BAG PLATE RED RETROSPOT</td>\n",
       "      <td>16</td>\n",
       "      <td>1</td>\n",
       "    </tr>\n",
       "  </tbody>\n",
       "</table>\n",
       "<p>5 rows × 46 columns</p>\n",
       "</div>"
      ],
      "text/plain": [
       "      transaction_ID       Date   Time                        item_0  \\\n",
       "4393          542633 2011-01-31  10:31     ZINC FOLKART SLEIGH BELLS   \n",
       "4051          542149 2011-01-26  10:17        PAPER CHAIN KIT EMPIRE   \n",
       "3722          541696 2011-01-20  18:08               BLUE EGG  SPOON   \n",
       "3729          541696 2011-01-20  18:08  HANGING WOOD AND FELT FLOWER   \n",
       "17796         562024 2011-01-08  16:07      BROWN CHECK CAT DOORSTOP   \n",
       "\n",
       "                                 item_1                        item_2  \\\n",
       "4393                TEA TIME OVEN GLOVE                 PARTY BUNTING   \n",
       "4051      ENGLISH ROSE GARDEN SECATEURS        DINOSAURS  WRITING SET   \n",
       "3722   12 IVORY ROSE PEG PLACE SETTINGS     12 DAISY PEGS IN WOOD BOX   \n",
       "3729       SET/3 POLKADOT STACKING TINS        GREEN VINTAGE EARRINGS   \n",
       "17796               PAINTED PINK RABBIT  STRAWBERRY RAFFIA FOOD COVER   \n",
       "\n",
       "                                 item_3                             item_4  \\\n",
       "4393                 DOORMAT FRIENDSHIP      RED WOOLLY HOTTIE WHITE HEART   \n",
       "4051   DINOSAUR PARTY BAG + STICKER SET         FOUR HOOK  WHITE LOVEBIRDS   \n",
       "3722                TOADSTOOL MONEY BOX        CHICK GREY HOT WATER BOTTLE   \n",
       "3729   SILVER M.O.P ORBIT DROP EARRINGS        TINY CRYSTAL BRACELET GREEN   \n",
       "17796          FANCY FONT BIRTHDAY CARD  STRAWBERRY LUNCH BOX WITH CUTLERY   \n",
       "\n",
       "                                    item_5  \\\n",
       "4393   KNITTED UNION FLAG HOT WATER BOTTLE   \n",
       "4051             HEART IVORY TRELLIS LARGE   \n",
       "3722        ROTATING LEAVES T-LIGHT HOLDER   \n",
       "3729                     CARNIVAL BRACELET   \n",
       "17796           VINTAGE UNION JACK BUNTING   \n",
       "\n",
       "                                    item_6  ...  \\\n",
       "4393         ENGLISH ROSE HOT WATER BOTTLE  ...   \n",
       "4051   PACK OF 6 SANDCASTLE FLAGS ASSORTED  ...   \n",
       "3722                  SKULLS GREETING CARD  ...   \n",
       "3729                 FRUIT SALAD BAG CHARM  ...   \n",
       "17796           MOCK LOBSTER FRIDGE MAGNET  ...   \n",
       "\n",
       "                                  item_33  \\\n",
       "4393                                  NaN   \n",
       "4051                                  NaN   \n",
       "3722       VINTAGE SEASIDE JIGSAW PUZZLES   \n",
       "3729         LARGE PINK GLASS SUNDAE DISH   \n",
       "17796  METAL 4 HOOK HANGER FRENCH CHATEAU   \n",
       "\n",
       "                                   item_34                           item_35  \\\n",
       "4393                                   NaN                               NaN   \n",
       "4051                                   NaN                               NaN   \n",
       "3722       SET 12 RETRO WHITE CHALK STICKS    JUMBO BAG PINK VINTAGE PAISLEY   \n",
       "3729           BLUE PATCH PURSE PINK HEART  DENIM PATCH PURSE PINK BUTTERFLY   \n",
       "17796  CAKE STAND VICTORIAN FILIGREE SMALL   HANGING HEART MIRROR DECORATION   \n",
       "\n",
       "                             item_36                       item_37  \\\n",
       "4393                             NaN                           NaN   \n",
       "4051                             NaN                           NaN   \n",
       "3722          JUMBO STORAGE BAG SUKI            SKULL SHOULDER BAG   \n",
       "3729   PURPLE ENAMEL FLOWER HAIR TIE  WHITE ENAMEL FLOWER HAIR TIE   \n",
       "17796        EGG CUP NATURAL CHICKEN     HEART IVORY TRELLIS SMALL   \n",
       "\n",
       "                            item_38                        item_39  \\\n",
       "4393                            NaN                            NaN   \n",
       "4051                            NaN                            NaN   \n",
       "3722             SUKI  SHOULDER BAG       FRYING PAN PINK POLKADOT   \n",
       "3729    PINK ENAMEL FLOWER HAIR TIE  \"LETTER \"\"A\"\" BLING KEY RING\"   \n",
       "17796  200 RED + WHITE BENDY STRAWS      HOME GARLAND PAINTED ZINC   \n",
       "\n",
       "                           item_40 Hour Month  \n",
       "4393                           NaN   10     1  \n",
       "4051                           NaN   10     1  \n",
       "3722      FRYING PAN BLUE POLKADOT   18     1  \n",
       "3729                DOTCOM POSTAGE   18     1  \n",
       "17796  TEA BAG PLATE RED RETROSPOT   16     1  \n",
       "\n",
       "[5 rows x 46 columns]"
      ]
     },
     "execution_count": 68,
     "metadata": {},
     "output_type": "execute_result"
    }
   ],
   "source": [
    "Filtered_data2 = data[data['Date'].dt.month == 1]\n",
    "Filtered_data2.head()"
   ]
  },
  {
   "cell_type": "markdown",
   "id": "d886e16a",
   "metadata": {},
   "source": [
    "### Data Preparation for Apriori Algorithm\n",
    "\n",
    "Januray transactions will be represented by items_dfjan"
   ]
  },
  {
   "cell_type": "code",
   "execution_count": 69,
   "id": "312612b1",
   "metadata": {},
   "outputs": [],
   "source": [
    "items_dfjan=Filtered_data2[Filtered_data2.columns[3:44]]"
   ]
  },
  {
   "cell_type": "code",
   "execution_count": 70,
   "id": "2ebb853b",
   "metadata": {},
   "outputs": [
    {
     "data": {
      "text/html": [
       "<div>\n",
       "<style scoped>\n",
       "    .dataframe tbody tr th:only-of-type {\n",
       "        vertical-align: middle;\n",
       "    }\n",
       "\n",
       "    .dataframe tbody tr th {\n",
       "        vertical-align: top;\n",
       "    }\n",
       "\n",
       "    .dataframe thead th {\n",
       "        text-align: right;\n",
       "    }\n",
       "</style>\n",
       "<table border=\"1\" class=\"dataframe\">\n",
       "  <thead>\n",
       "    <tr style=\"text-align: right;\">\n",
       "      <th></th>\n",
       "      <th>item_0</th>\n",
       "      <th>item_1</th>\n",
       "      <th>item_2</th>\n",
       "      <th>item_3</th>\n",
       "      <th>item_4</th>\n",
       "      <th>item_5</th>\n",
       "      <th>item_6</th>\n",
       "      <th>item_7</th>\n",
       "      <th>item_8</th>\n",
       "      <th>item_9</th>\n",
       "      <th>...</th>\n",
       "      <th>item_31</th>\n",
       "      <th>item_32</th>\n",
       "      <th>item_33</th>\n",
       "      <th>item_34</th>\n",
       "      <th>item_35</th>\n",
       "      <th>item_36</th>\n",
       "      <th>item_37</th>\n",
       "      <th>item_38</th>\n",
       "      <th>item_39</th>\n",
       "      <th>item_40</th>\n",
       "    </tr>\n",
       "  </thead>\n",
       "  <tbody>\n",
       "    <tr>\n",
       "      <th>4393</th>\n",
       "      <td>ZINC FOLKART SLEIGH BELLS</td>\n",
       "      <td>TEA TIME OVEN GLOVE</td>\n",
       "      <td>PARTY BUNTING</td>\n",
       "      <td>DOORMAT FRIENDSHIP</td>\n",
       "      <td>RED WOOLLY HOTTIE WHITE HEART</td>\n",
       "      <td>KNITTED UNION FLAG HOT WATER BOTTLE</td>\n",
       "      <td>ENGLISH ROSE HOT WATER BOTTLE</td>\n",
       "      <td>CHARLIE+LOLA RED HOT WATER BOTTLE</td>\n",
       "      <td>SET OF 3 BUTTERFLY COOKIE CUTTERS</td>\n",
       "      <td>BOX OF 24 COCKTAIL PARASOLS</td>\n",
       "      <td>...</td>\n",
       "      <td>NaN</td>\n",
       "      <td>NaN</td>\n",
       "      <td>NaN</td>\n",
       "      <td>NaN</td>\n",
       "      <td>NaN</td>\n",
       "      <td>NaN</td>\n",
       "      <td>NaN</td>\n",
       "      <td>NaN</td>\n",
       "      <td>NaN</td>\n",
       "      <td>NaN</td>\n",
       "    </tr>\n",
       "    <tr>\n",
       "      <th>4051</th>\n",
       "      <td>PAPER CHAIN KIT EMPIRE</td>\n",
       "      <td>ENGLISH ROSE GARDEN SECATEURS</td>\n",
       "      <td>DINOSAURS  WRITING SET</td>\n",
       "      <td>DINOSAUR PARTY BAG + STICKER SET</td>\n",
       "      <td>FOUR HOOK  WHITE LOVEBIRDS</td>\n",
       "      <td>HEART IVORY TRELLIS LARGE</td>\n",
       "      <td>PACK OF 6 SANDCASTLE FLAGS ASSORTED</td>\n",
       "      <td>72 SWEETHEART FAIRY CAKE CASES</td>\n",
       "      <td>SMALL POPCORN HOLDER</td>\n",
       "      <td>HEART OF WICKER SMALL</td>\n",
       "      <td>...</td>\n",
       "      <td>NaN</td>\n",
       "      <td>NaN</td>\n",
       "      <td>NaN</td>\n",
       "      <td>NaN</td>\n",
       "      <td>NaN</td>\n",
       "      <td>NaN</td>\n",
       "      <td>NaN</td>\n",
       "      <td>NaN</td>\n",
       "      <td>NaN</td>\n",
       "      <td>NaN</td>\n",
       "    </tr>\n",
       "    <tr>\n",
       "      <th>3722</th>\n",
       "      <td>BLUE EGG  SPOON</td>\n",
       "      <td>12 IVORY ROSE PEG PLACE SETTINGS</td>\n",
       "      <td>12 DAISY PEGS IN WOOD BOX</td>\n",
       "      <td>TOADSTOOL MONEY BOX</td>\n",
       "      <td>CHICK GREY HOT WATER BOTTLE</td>\n",
       "      <td>ROTATING LEAVES T-LIGHT HOLDER</td>\n",
       "      <td>SKULLS GREETING CARD</td>\n",
       "      <td>FANCY FONT BIRTHDAY CARD</td>\n",
       "      <td>RED RETROSPOT PUDDING BOWL</td>\n",
       "      <td>CERAMIC STRAWBERRY TRINKET TRAY</td>\n",
       "      <td>...</td>\n",
       "      <td>TRADITIONAL WOODEN CATCH CUP GAME</td>\n",
       "      <td>CHOCOLATE THIS WAY METAL SIGN</td>\n",
       "      <td>VINTAGE SEASIDE JIGSAW PUZZLES</td>\n",
       "      <td>SET 12 RETRO WHITE CHALK STICKS</td>\n",
       "      <td>JUMBO BAG PINK VINTAGE PAISLEY</td>\n",
       "      <td>JUMBO STORAGE BAG SUKI</td>\n",
       "      <td>SKULL SHOULDER BAG</td>\n",
       "      <td>SUKI  SHOULDER BAG</td>\n",
       "      <td>FRYING PAN PINK POLKADOT</td>\n",
       "      <td>FRYING PAN BLUE POLKADOT</td>\n",
       "    </tr>\n",
       "    <tr>\n",
       "      <th>3729</th>\n",
       "      <td>HANGING WOOD AND FELT FLOWER</td>\n",
       "      <td>SET/3 POLKADOT STACKING TINS</td>\n",
       "      <td>GREEN VINTAGE EARRINGS</td>\n",
       "      <td>SILVER M.O.P ORBIT DROP EARRINGS</td>\n",
       "      <td>TINY CRYSTAL BRACELET GREEN</td>\n",
       "      <td>CARNIVAL BRACELET</td>\n",
       "      <td>FRUIT SALAD BAG CHARM</td>\n",
       "      <td>ANT COPPER LIME BOUDICCA BRACELET</td>\n",
       "      <td>AMETHYST HOOP EARRING FLORAL LEAF</td>\n",
       "      <td>BLUE SWEETHEART BRACELET</td>\n",
       "      <td>...</td>\n",
       "      <td>RED RETROSPOT CHARLOTTE BAG</td>\n",
       "      <td>LUNCH BAG RED RETROSPOT</td>\n",
       "      <td>LARGE PINK GLASS SUNDAE DISH</td>\n",
       "      <td>BLUE PATCH PURSE PINK HEART</td>\n",
       "      <td>DENIM PATCH PURSE PINK BUTTERFLY</td>\n",
       "      <td>PURPLE ENAMEL FLOWER HAIR TIE</td>\n",
       "      <td>WHITE ENAMEL FLOWER HAIR TIE</td>\n",
       "      <td>PINK ENAMEL FLOWER HAIR TIE</td>\n",
       "      <td>\"LETTER \"\"A\"\" BLING KEY RING\"</td>\n",
       "      <td>DOTCOM POSTAGE</td>\n",
       "    </tr>\n",
       "    <tr>\n",
       "      <th>17796</th>\n",
       "      <td>BROWN CHECK CAT DOORSTOP</td>\n",
       "      <td>PAINTED PINK RABBIT</td>\n",
       "      <td>STRAWBERRY RAFFIA FOOD COVER</td>\n",
       "      <td>FANCY FONT BIRTHDAY CARD</td>\n",
       "      <td>STRAWBERRY LUNCH BOX WITH CUTLERY</td>\n",
       "      <td>VINTAGE UNION JACK BUNTING</td>\n",
       "      <td>MOCK LOBSTER FRIDGE MAGNET</td>\n",
       "      <td>GIRLS VINTAGE TIN SEASIDE BUCKET</td>\n",
       "      <td>BOYS VINTAGE TIN SEASIDE BUCKET</td>\n",
       "      <td>RED METAL BEACH SPADE</td>\n",
       "      <td>...</td>\n",
       "      <td>BAKING SET 9 PIECE RETROSPOT</td>\n",
       "      <td>HEART DECORATION RUSTIC HANGING</td>\n",
       "      <td>METAL 4 HOOK HANGER FRENCH CHATEAU</td>\n",
       "      <td>CAKE STAND VICTORIAN FILIGREE SMALL</td>\n",
       "      <td>HANGING HEART MIRROR DECORATION</td>\n",
       "      <td>EGG CUP NATURAL CHICKEN</td>\n",
       "      <td>HEART IVORY TRELLIS SMALL</td>\n",
       "      <td>200 RED + WHITE BENDY STRAWS</td>\n",
       "      <td>HOME GARLAND PAINTED ZINC</td>\n",
       "      <td>TEA BAG PLATE RED RETROSPOT</td>\n",
       "    </tr>\n",
       "  </tbody>\n",
       "</table>\n",
       "<p>5 rows × 41 columns</p>\n",
       "</div>"
      ],
      "text/plain": [
       "                             item_0                            item_1  \\\n",
       "4393      ZINC FOLKART SLEIGH BELLS               TEA TIME OVEN GLOVE   \n",
       "4051         PAPER CHAIN KIT EMPIRE     ENGLISH ROSE GARDEN SECATEURS   \n",
       "3722                BLUE EGG  SPOON  12 IVORY ROSE PEG PLACE SETTINGS   \n",
       "3729   HANGING WOOD AND FELT FLOWER      SET/3 POLKADOT STACKING TINS   \n",
       "17796      BROWN CHECK CAT DOORSTOP               PAINTED PINK RABBIT   \n",
       "\n",
       "                             item_2                            item_3  \\\n",
       "4393                  PARTY BUNTING                DOORMAT FRIENDSHIP   \n",
       "4051         DINOSAURS  WRITING SET  DINOSAUR PARTY BAG + STICKER SET   \n",
       "3722      12 DAISY PEGS IN WOOD BOX               TOADSTOOL MONEY BOX   \n",
       "3729         GREEN VINTAGE EARRINGS  SILVER M.O.P ORBIT DROP EARRINGS   \n",
       "17796  STRAWBERRY RAFFIA FOOD COVER          FANCY FONT BIRTHDAY CARD   \n",
       "\n",
       "                                  item_4                               item_5  \\\n",
       "4393       RED WOOLLY HOTTIE WHITE HEART  KNITTED UNION FLAG HOT WATER BOTTLE   \n",
       "4051          FOUR HOOK  WHITE LOVEBIRDS            HEART IVORY TRELLIS LARGE   \n",
       "3722         CHICK GREY HOT WATER BOTTLE       ROTATING LEAVES T-LIGHT HOLDER   \n",
       "3729         TINY CRYSTAL BRACELET GREEN                    CARNIVAL BRACELET   \n",
       "17796  STRAWBERRY LUNCH BOX WITH CUTLERY           VINTAGE UNION JACK BUNTING   \n",
       "\n",
       "                                    item_6                             item_7  \\\n",
       "4393         ENGLISH ROSE HOT WATER BOTTLE  CHARLIE+LOLA RED HOT WATER BOTTLE   \n",
       "4051   PACK OF 6 SANDCASTLE FLAGS ASSORTED     72 SWEETHEART FAIRY CAKE CASES   \n",
       "3722                  SKULLS GREETING CARD           FANCY FONT BIRTHDAY CARD   \n",
       "3729                 FRUIT SALAD BAG CHARM  ANT COPPER LIME BOUDICCA BRACELET   \n",
       "17796           MOCK LOBSTER FRIDGE MAGNET   GIRLS VINTAGE TIN SEASIDE BUCKET   \n",
       "\n",
       "                                  item_8                           item_9  \\\n",
       "4393   SET OF 3 BUTTERFLY COOKIE CUTTERS      BOX OF 24 COCKTAIL PARASOLS   \n",
       "4051                SMALL POPCORN HOLDER            HEART OF WICKER SMALL   \n",
       "3722          RED RETROSPOT PUDDING BOWL  CERAMIC STRAWBERRY TRINKET TRAY   \n",
       "3729   AMETHYST HOOP EARRING FLORAL LEAF         BLUE SWEETHEART BRACELET   \n",
       "17796    BOYS VINTAGE TIN SEASIDE BUCKET            RED METAL BEACH SPADE   \n",
       "\n",
       "       ...                            item_31  \\\n",
       "4393   ...                                NaN   \n",
       "4051   ...                                NaN   \n",
       "3722   ...  TRADITIONAL WOODEN CATCH CUP GAME   \n",
       "3729   ...        RED RETROSPOT CHARLOTTE BAG   \n",
       "17796  ...       BAKING SET 9 PIECE RETROSPOT   \n",
       "\n",
       "                               item_32                             item_33  \\\n",
       "4393                               NaN                                 NaN   \n",
       "4051                               NaN                                 NaN   \n",
       "3722     CHOCOLATE THIS WAY METAL SIGN      VINTAGE SEASIDE JIGSAW PUZZLES   \n",
       "3729           LUNCH BAG RED RETROSPOT        LARGE PINK GLASS SUNDAE DISH   \n",
       "17796  HEART DECORATION RUSTIC HANGING  METAL 4 HOOK HANGER FRENCH CHATEAU   \n",
       "\n",
       "                                   item_34                           item_35  \\\n",
       "4393                                   NaN                               NaN   \n",
       "4051                                   NaN                               NaN   \n",
       "3722       SET 12 RETRO WHITE CHALK STICKS    JUMBO BAG PINK VINTAGE PAISLEY   \n",
       "3729           BLUE PATCH PURSE PINK HEART  DENIM PATCH PURSE PINK BUTTERFLY   \n",
       "17796  CAKE STAND VICTORIAN FILIGREE SMALL   HANGING HEART MIRROR DECORATION   \n",
       "\n",
       "                             item_36                       item_37  \\\n",
       "4393                             NaN                           NaN   \n",
       "4051                             NaN                           NaN   \n",
       "3722          JUMBO STORAGE BAG SUKI            SKULL SHOULDER BAG   \n",
       "3729   PURPLE ENAMEL FLOWER HAIR TIE  WHITE ENAMEL FLOWER HAIR TIE   \n",
       "17796        EGG CUP NATURAL CHICKEN     HEART IVORY TRELLIS SMALL   \n",
       "\n",
       "                            item_38                        item_39  \\\n",
       "4393                            NaN                            NaN   \n",
       "4051                            NaN                            NaN   \n",
       "3722             SUKI  SHOULDER BAG       FRYING PAN PINK POLKADOT   \n",
       "3729    PINK ENAMEL FLOWER HAIR TIE  \"LETTER \"\"A\"\" BLING KEY RING\"   \n",
       "17796  200 RED + WHITE BENDY STRAWS      HOME GARLAND PAINTED ZINC   \n",
       "\n",
       "                           item_40  \n",
       "4393                           NaN  \n",
       "4051                           NaN  \n",
       "3722      FRYING PAN BLUE POLKADOT  \n",
       "3729                DOTCOM POSTAGE  \n",
       "17796  TEA BAG PLATE RED RETROSPOT  \n",
       "\n",
       "[5 rows x 41 columns]"
      ]
     },
     "execution_count": 70,
     "metadata": {},
     "output_type": "execute_result"
    }
   ],
   "source": [
    "items_dfjan.head()"
   ]
  },
  {
   "cell_type": "code",
   "execution_count": 71,
   "id": "69e890b0",
   "metadata": {},
   "outputs": [],
   "source": [
    "basketsjan = items_dfjan.T.apply(lambda x: x.dropna().tolist()).tolist()"
   ]
  },
  {
   "cell_type": "code",
   "execution_count": 72,
   "id": "d312ee52",
   "metadata": {},
   "outputs": [
    {
     "name": "stdout",
     "output_type": "stream",
     "text": [
      "1645\n"
     ]
    }
   ],
   "source": [
    "print(len(basketsjan))"
   ]
  },
  {
   "cell_type": "markdown",
   "id": "fa8262b3",
   "metadata": {},
   "source": [
    "There are 1645 transactions in January"
   ]
  },
  {
   "cell_type": "code",
   "execution_count": 74,
   "id": "fca4cbbb",
   "metadata": {},
   "outputs": [
    {
     "name": "stdout",
     "output_type": "stream",
     "text": [
      "['ZINC FOLKART SLEIGH BELLS', 'TEA TIME OVEN GLOVE', 'PARTY BUNTING', 'DOORMAT FRIENDSHIP', 'RED WOOLLY HOTTIE WHITE HEART', 'KNITTED UNION FLAG HOT WATER BOTTLE', 'ENGLISH ROSE HOT WATER BOTTLE', 'CHARLIE+LOLA RED HOT WATER BOTTLE', 'SET OF 3 BUTTERFLY COOKIE CUTTERS', 'BOX OF 24 COCKTAIL PARASOLS', '60 TEATIME FAIRY CAKE CASES', 'PINK 3 PIECE POLKADOT CUTLERY SET']\n",
      "['PAPER CHAIN KIT EMPIRE', 'ENGLISH ROSE GARDEN SECATEURS', 'DINOSAURS  WRITING SET', 'DINOSAUR PARTY BAG + STICKER SET', 'FOUR HOOK  WHITE LOVEBIRDS', 'HEART IVORY TRELLIS LARGE', 'PACK OF 6 SANDCASTLE FLAGS ASSORTED', '72 SWEETHEART FAIRY CAKE CASES', 'SMALL POPCORN HOLDER', 'HEART OF WICKER SMALL']\n",
      "['BLUE EGG  SPOON', '12 IVORY ROSE PEG PLACE SETTINGS', '12 DAISY PEGS IN WOOD BOX', 'TOADSTOOL MONEY BOX', 'CHICK GREY HOT WATER BOTTLE', 'ROTATING LEAVES T-LIGHT HOLDER', 'SKULLS GREETING CARD', 'FANCY FONT BIRTHDAY CARD', 'RED RETROSPOT PUDDING BOWL', 'CERAMIC STRAWBERRY TRINKET TRAY', 'CERAMIC STRAWBERRY MONEY BOX', 'SET OF 6 FUNKY BEAKERS', '4 PEAR BOTANICAL DINNER CANDLES', 'FLOWERS  STICKERS', 'FOLDING UMBRELLA RED/WHITE POLKADOT', 'FOLDING UMBRELLA CREAM POLKADOT', 'FOLDING UMBRELLA CHOCOLATE POLKADOT', 'LOVE BUILDING BLOCK WORD', 'DECORATIVE ROSE BATHROOM BOTTLE', 'DECORATIVE CATS BATHROOM BOTTLE', 'CHRISTMAS TREE DECORATION WITH BELL', 'CHRISTMAS TREE HEART DECORATION', 'CHRISTMAS TREE STAR DECORATION', 'CHOCOLATE CALCULATOR', 'PINK DIAMANTE PEN IN GIFT BOX', 'BLUE  DIAMANTE PEN IN GIFT BOX', 'LILAC DIAMANTE PEN IN GIFT BOX', 'HEARTS GIFT TAPE', 'SKULLS TAPE', 'STARS GIFT TAPE', 'CAKES AND BOWS GIFT  TAPE', 'TRADITIONAL WOODEN CATCH CUP GAME', 'CHOCOLATE THIS WAY METAL SIGN', 'VINTAGE SEASIDE JIGSAW PUZZLES', 'SET 12 RETRO WHITE CHALK STICKS', 'JUMBO BAG PINK VINTAGE PAISLEY', 'JUMBO STORAGE BAG SUKI', 'SKULL SHOULDER BAG', 'SUKI  SHOULDER BAG', 'FRYING PAN PINK POLKADOT', 'FRYING PAN BLUE POLKADOT']\n",
      "['HANGING WOOD AND FELT FLOWER', 'SET/3 POLKADOT STACKING TINS', 'GREEN VINTAGE EARRINGS', 'SILVER M.O.P ORBIT DROP EARRINGS', 'TINY CRYSTAL BRACELET GREEN', 'CARNIVAL BRACELET', 'FRUIT SALAD BAG CHARM', 'ANT COPPER LIME BOUDICCA BRACELET', 'AMETHYST HOOP EARRING FLORAL LEAF', 'BLUE SWEETHEART BRACELET', '4 VANILLA BOTANICAL CANDLES', 'SET OF 4 ROSE BOTANICAL CANDLES', 'HIPPY CHIC DECORATIVE PARASOL', 'ASSORTED TUTTI FRUTTI BRACELET', 'GLASS  BEURRE DISH', 'BLUE STRIPE CERAMIC DRAWER KNOB', 'WHITE SPOT BLUE CERAMIC DRAWER KNOB', 'BUTTERFLIES STICKERS', 'MINI FUNKY DESIGN TAPES', 'COLOURING PENCILS BROWN TUBE', 'RATTLE SNAKE EGGS', 'RECYCLED PENCIL WITH RABBIT ERASER', 'SLEEPING CAT ERASERS', 'ORIGAMI SANDLEWOOD INCENSE/CAND SET', 'BLUE POLKADOT LUGGAGE TAG', 'CHERRY BLOSSOM LUGGAGE TAG', 'MOUSEY LONG LEGS SOFT TOY', 'JUMBO BAG WOODLAND ANIMALS', 'STRAWBERRY SHOPPER BAG', 'WOODLAND CHARLOTTE BAG', 'STRAWBERRY CHARLOTTE BAG', 'RED RETROSPOT CHARLOTTE BAG', 'LUNCH BAG RED RETROSPOT', 'LARGE PINK GLASS SUNDAE DISH', 'BLUE PATCH PURSE PINK HEART', 'DENIM PATCH PURSE PINK BUTTERFLY', 'PURPLE ENAMEL FLOWER HAIR TIE', 'WHITE ENAMEL FLOWER HAIR TIE', 'PINK ENAMEL FLOWER HAIR TIE', '\"LETTER \"\"A\"\" BLING KEY RING\"', 'DOTCOM POSTAGE']\n",
      "['BROWN CHECK CAT DOORSTOP', 'PAINTED PINK RABBIT', 'STRAWBERRY RAFFIA FOOD COVER', 'FANCY FONT BIRTHDAY CARD', 'STRAWBERRY LUNCH BOX WITH CUTLERY', 'VINTAGE UNION JACK BUNTING', 'MOCK LOBSTER FRIDGE MAGNET', 'GIRLS VINTAGE TIN SEASIDE BUCKET', 'BOYS VINTAGE TIN SEASIDE BUCKET', 'RED METAL BEACH SPADE', 'LARGE RED RETROSPOT WINDMILL', 'GIN AND TONIC MUG', 'POTTERING MUG', 'BINGO SET', 'MORE BUTTER METAL SIGN', 'BLUE HARMONICA IN BOX', 'SET 12 KIDS COLOUR  CHALK STICKS', 'JUMBO BAG SCANDINAVIAN BLUE PAISLEY', 'JUMBO STORAGE BAG SKULLS', 'RED RETROSPOT PICNIC BAG', 'PACK OF 60 PINK PAISLEY CAKE CASES', 'PACK OF 6 SKULL PAPER CUPS', 'PACK OF 6 SKULL PAPER PLATES', 'MODERN FLORAL STATIONERY SET', 'BOHEMIAN COLLAGE STATIONERY SET', 'VINTAGE PAISLEY STATIONERY SET', 'FLORAL FOLK STATIONERY SET', 'BOUDOIR SQUARE TISSUE BOX', 'METAL SIGN HIS DINNER IS SERVED', 'SET OF 2 TEA TOWELS PING MICROWAVE', 'MINI LADLE LOVE HEART PINK', 'BAKING SET 9 PIECE RETROSPOT', 'HEART DECORATION RUSTIC HANGING', 'METAL 4 HOOK HANGER FRENCH CHATEAU', 'CAKE STAND VICTORIAN FILIGREE SMALL', 'HANGING HEART MIRROR DECORATION', 'EGG CUP NATURAL CHICKEN', 'HEART IVORY TRELLIS SMALL', '200 RED + WHITE BENDY STRAWS', 'HOME GARLAND PAINTED ZINC', 'TEA BAG PLATE RED RETROSPOT']\n"
     ]
    }
   ],
   "source": [
    "for i in basketsjan[:5]:\n",
    "    print(i)"
   ]
  },
  {
   "cell_type": "markdown",
   "id": "d1185911",
   "metadata": {},
   "source": [
    "### Using the same parameters for the algorithm, as used for November transactions\n",
    "\n",
    "Minimum Support = 0.01\n",
    "Minimum Confidence = 0.2\n",
    "Minimum Lift = 3"
   ]
  },
  {
   "cell_type": "code",
   "execution_count": 77,
   "id": "b83ecacb",
   "metadata": {},
   "outputs": [],
   "source": [
    "association_rulesjan = apriori(basketsjan, min_support=0.01, min_confidence=0.2, \n",
    "                            min_lift=3, min_length=2)\n",
    "association_resultsjan = list(association_rulesjan)"
   ]
  },
  {
   "cell_type": "code",
   "execution_count": 78,
   "id": "0e45f401",
   "metadata": {},
   "outputs": [
    {
     "name": "stdout",
     "output_type": "stream",
     "text": [
      "Rules generated:  91\n"
     ]
    }
   ],
   "source": [
    "print('Rules generated: ', len(association_resultsjan))"
   ]
  },
  {
   "cell_type": "code",
   "execution_count": 79,
   "id": "3782ac25",
   "metadata": {},
   "outputs": [
    {
     "name": "stdout",
     "output_type": "stream",
     "text": [
      "RelationRecord(items=frozenset({'ALARM CLOCK BAKELIKE GREEN', 'ALARM CLOCK BAKELIKE RED'}), support=0.013373860182370821, ordered_statistics=[OrderedStatistic(items_base=frozenset({'ALARM CLOCK BAKELIKE GREEN'}), items_add=frozenset({'ALARM CLOCK BAKELIKE RED'}), confidence=0.55, lift=25.131944444444446), OrderedStatistic(items_base=frozenset({'ALARM CLOCK BAKELIKE RED'}), items_add=frozenset({'ALARM CLOCK BAKELIKE GREEN'}), confidence=0.6111111111111112, lift=25.131944444444446)])\n"
     ]
    }
   ],
   "source": [
    "print(association_resultsjan[0])"
   ]
  },
  {
   "cell_type": "code",
   "execution_count": 82,
   "id": "a43c500a",
   "metadata": {},
   "outputs": [],
   "source": [
    "def display_rules(association_resultsjan):\n",
    "    for item in association_resultsjan:\n",
    "        pair = item[0]\n",
    "        items = [x for x in pair]\n",
    "        print(\"Rule: \" + items[0] + \" -> \" + items[1])\n",
    "        print(\"Support: \" + str(item[1]))\n",
    "        print(\"Confidence: \" + str(item[2][0][2]))\n",
    "        print(\"Lift: \" + str(item[2][0][3]))\n",
    "        print(\"=====================================\")"
   ]
  },
  {
   "cell_type": "code",
   "execution_count": 83,
   "id": "550a67fd",
   "metadata": {},
   "outputs": [
    {
     "name": "stdout",
     "output_type": "stream",
     "text": [
      "Rule: ALARM CLOCK BAKELIKE GREEN -> ALARM CLOCK BAKELIKE RED\n",
      "Support: 0.013373860182370821\n",
      "Confidence: 0.55\n",
      "Lift: 25.131944444444446\n",
      "=====================================\n",
      "Rule: REGENCY CAKESTAND 3 TIER -> ASSORTED COLOUR BIRD ORNAMENT\n",
      "Support: 0.011550151975683891\n",
      "Confidence: 0.27941176470588236\n",
      "Lift: 4.255855119825708\n",
      "=====================================\n",
      "Rule: BAKING SET SPACEBOY DESIGN -> BAKING SET 9 PIECE RETROSPOT\n",
      "Support: 0.0121580547112462\n",
      "Confidence: 0.37037037037037035\n",
      "Lift: 21.759259259259256\n",
      "=====================================\n",
      "Rule: BATHROOM METAL SIGN -> TOILET METAL SIGN\n",
      "Support: 0.01276595744680851\n",
      "Confidence: 0.4666666666666666\n",
      "Lift: 25.58888888888889\n",
      "=====================================\n",
      "Rule: PINK 3 PIECE POLKADOT CUTLERY SET -> BLUE 3 PIECE POLKADOT CUTLERY SET\n",
      "Support: 0.015197568389057751\n",
      "Confidence: 0.78125\n",
      "Lift: 40.1611328125\n",
      "=====================================\n",
      "Rule: PINK HAPPY BIRTHDAY BUNTING -> BLUE HAPPY BIRTHDAY BUNTING\n",
      "Support: 0.0121580547112462\n",
      "Confidence: 0.7692307692307692\n",
      "Lift: 45.192307692307686\n",
      "=====================================\n",
      "Rule: BLUE POLKADOT BOWL -> RED RETROSPOT BOWL\n",
      "Support: 0.01094224924012158\n",
      "Confidence: 0.8999999999999999\n",
      "Lift: 41.125\n",
      "=====================================\n",
      "Rule: RED HANGING HEART T-LIGHT HOLDER -> CANDLEHOLDER PINK HANGING HEART\n",
      "Support: 0.01094224924012158\n",
      "Confidence: 0.5\n",
      "Lift: 13.940677966101694\n",
      "=====================================\n",
      "Rule: CANDLEHOLDER PINK HANGING HEART -> WHITE HANGING HEART T-LIGHT HOLDER\n",
      "Support: 0.011550151975683891\n",
      "Confidence: 0.5277777777777778\n",
      "Lift: 7.234953703703704\n",
      "=====================================\n",
      "Rule: JUMBO BAG PINK POLKADOT -> CHARLOTTE BAG PINK POLKADOT\n",
      "Support: 0.011550151975683891\n",
      "Confidence: 0.48717948717948717\n",
      "Lift: 11.961347110600842\n",
      "=====================================\n"
     ]
    }
   ],
   "source": [
    "display_rules(association_resultsjan[:10])"
   ]
  },
  {
   "cell_type": "markdown",
   "id": "3433cc30",
   "metadata": {},
   "source": [
    "There are 91 rules satisfying the Minimunm support and Mininimum confidence used in the\n",
    "algorithm."
   ]
  },
  {
   "cell_type": "code",
   "execution_count": 85,
   "id": "834fc927",
   "metadata": {},
   "outputs": [
    {
     "data": {
      "text/plain": [
       "[('WHITE HANGING HEART T-LIGHT HOLDER', 120),\n",
       " ('REGENCY CAKESTAND 3 TIER', 110),\n",
       " ('HEART OF WICKER SMALL', 92),\n",
       " ('NATURAL SLATE HEART CHALKBOARD', 89),\n",
       " ('LUNCH BAG  BLACK SKULL', 87),\n",
       " ('JUMBO BAG RED RETROSPOT', 85),\n",
       " ('LUNCH BAG RED RETROSPOT', 83),\n",
       " ('JAM MAKING SET WITH JARS', 83),\n",
       " ('SET OF 3 CAKE TINS PANTRY DESIGN', 80),\n",
       " ('SET OF 3 HEART COOKIE CUTTERS', 74)]"
      ]
     },
     "execution_count": 85,
     "metadata": {},
     "output_type": "execute_result"
    }
   ],
   "source": [
    "from collections import Counter\n",
    "counter = Counter(basketsjan[0])\n",
    "for i in basketsjan[1:]:\n",
    "    if i != 'nan':\n",
    "        counter.update(i)\n",
    "del counter['nan']\n",
    "counter.most_common(10)"
   ]
  },
  {
   "cell_type": "markdown",
   "id": "119c6f5c",
   "metadata": {},
   "source": [
    "These are the top 10 items in January"
   ]
  },
  {
   "cell_type": "markdown",
   "id": "0d89a656",
   "metadata": {},
   "source": [
    "#### Using different parameter to check the association rules changes\n",
    "Min Support = 0.02, Min Confidence = 0.2, Min Lift = 6"
   ]
  },
  {
   "cell_type": "code",
   "execution_count": 86,
   "id": "85c050ea",
   "metadata": {},
   "outputs": [],
   "source": [
    "association_rulesjan = apriori(basketsjan, min_support=0.02, min_confidence=0.2, \n",
    "                            min_lift=6, min_length=2)\n",
    "association_resultsjan = list(association_rulesjan)"
   ]
  },
  {
   "cell_type": "code",
   "execution_count": 87,
   "id": "5cd2d3ca",
   "metadata": {},
   "outputs": [
    {
     "name": "stdout",
     "output_type": "stream",
     "text": [
      "Rules generated:  3\n"
     ]
    }
   ],
   "source": [
    "print('Rules generated: ', len(association_resultsjan))"
   ]
  },
  {
   "cell_type": "code",
   "execution_count": 88,
   "id": "913bbe6b",
   "metadata": {},
   "outputs": [
    {
     "name": "stdout",
     "output_type": "stream",
     "text": [
      "RelationRecord(items=frozenset({'GREEN REGENCY TEACUP AND SAUCER', 'ROSES REGENCY TEACUP AND SAUCER'}), support=0.02370820668693009, ordered_statistics=[OrderedStatistic(items_base=frozenset({'GREEN REGENCY TEACUP AND SAUCER'}), items_add=frozenset({'ROSES REGENCY TEACUP AND SAUCER'}), confidence=0.7222222222222222, lift=21.601010101010104), OrderedStatistic(items_base=frozenset({'ROSES REGENCY TEACUP AND SAUCER'}), items_add=frozenset({'GREEN REGENCY TEACUP AND SAUCER'}), confidence=0.7090909090909091, lift=21.6010101010101)])\n"
     ]
    }
   ],
   "source": [
    "print(association_resultsjan[0])"
   ]
  },
  {
   "cell_type": "code",
   "execution_count": 89,
   "id": "7a041e65",
   "metadata": {},
   "outputs": [],
   "source": [
    "def display_rules(association_resultsjan):\n",
    "    for item in association_resultsjan:\n",
    "        pair = item[0]\n",
    "        items = [x for x in pair]\n",
    "        print(\"Rule: \" + items[0] + \" -> \" + items[1])\n",
    "        print(\"Support: \" + str(item[1]))\n",
    "        print(\"Confidence: \" + str(item[2][0][2]))\n",
    "        print(\"Lift: \" + str(item[2][0][3]))\n",
    "        print(\"=====================================\")"
   ]
  },
  {
   "cell_type": "code",
   "execution_count": 90,
   "id": "23a27bf4",
   "metadata": {},
   "outputs": [
    {
     "name": "stdout",
     "output_type": "stream",
     "text": [
      "Rule: GREEN REGENCY TEACUP AND SAUCER -> ROSES REGENCY TEACUP AND SAUCER\n",
      "Support: 0.02370820668693009\n",
      "Confidence: 0.7222222222222222\n",
      "Lift: 21.601010101010104\n",
      "=====================================\n",
      "Rule: HEART OF WICKER LARGE -> HEART OF WICKER SMALL\n",
      "Support: 0.02066869300911854\n",
      "Confidence: 0.5573770491803278\n",
      "Lift: 9.96614397719173\n",
      "=====================================\n",
      "Rule: RED HANGING HEART T-LIGHT HOLDER -> WHITE HANGING HEART T-LIGHT HOLDER\n",
      "Support: 0.022492401215805473\n",
      "Confidence: 0.6271186440677966\n",
      "Lift: 8.596751412429379\n",
      "=====================================\n"
     ]
    }
   ],
   "source": [
    "display_rules(association_resultsjan[:3])"
   ]
  },
  {
   "cell_type": "markdown",
   "id": "8ed0ae85",
   "metadata": {},
   "source": [
    "There is a great drop in rules conforming to the parameter threshold as we are reduced to just 3 association rules which indicates a really strong ruleset. GREEN REGENCY TEACUP AND SAUCER -> ROSES REGENCY TEACUP AND SAUCER seems  to be quite bought together as the confidence is above 72% with support around 0.023."
   ]
  },
  {
   "cell_type": "markdown",
   "id": "56851c46",
   "metadata": {},
   "source": [
    "### The changes of the association rules with different months"
   ]
  },
  {
   "cell_type": "markdown",
   "id": "c50623e9",
   "metadata": {},
   "source": [
    "The analysis indicates that the association rules vary across different months. With a minimum support of 0.01, minimum confidence of 0.2, and minimum lift of 3, there were 194 association rules generated for the transactions in November and 91 association rules generated for the transactions in January. As November is a period where people tend to shop for winter items, Christmas decorations, and gift items, it is expected that certain items will be frequently bought together. Therefore, the algorithm identifies all frequent itemsets that meet the minimum support threshold in November and generates rules that satisfy the minimum support and minimum confidence criteria.\n",
    "\n",
    "In contrast, the number of transactions in January is typically lower compared to other months. This could be attributed to various factors, such as the end of the holiday season, people focusing on paying off debts accumulated during the holiday season, or the colder weather making it less appealing to go out shopping. As a result, the association rules generated in January were larger itemsets that meet the minimum support and minimum confidence thresholds.\n",
    "\n",
    "However, when the minimum support was increased to 0.02 and minimum confidence remained at 0.2, the number of rules generated decreased significantly, with only 3 rules generated in January and 11 in November. This is due to the fact that fewer large itemsets meet the minimum support threshold, resulting in a reduction in the number of rules generated."
   ]
  },
  {
   "cell_type": "markdown",
   "id": "15e9bd14",
   "metadata": {},
   "source": [
    "# REFERENCES\n",
    "\n",
    "Han, J., Kamber, M. and Pei, J., 2012. Data Mining Concepts and Techinques. 3rd ed.\n",
    "Amsterdam: Elsevier, p.246."
   ]
  }
 ],
 "metadata": {
  "kernelspec": {
   "display_name": "Python 3 (ipykernel)",
   "language": "python",
   "name": "python3"
  },
  "language_info": {
   "codemirror_mode": {
    "name": "ipython",
    "version": 3
   },
   "file_extension": ".py",
   "mimetype": "text/x-python",
   "name": "python",
   "nbconvert_exporter": "python",
   "pygments_lexer": "ipython3",
   "version": "3.9.13"
  }
 },
 "nbformat": 4,
 "nbformat_minor": 5
}
